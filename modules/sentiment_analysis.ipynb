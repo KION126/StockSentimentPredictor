{
 "cells": [
  {
   "metadata": {},
   "cell_type": "markdown",
   "source": "## KLUE BERT 모델을 금융 뉴스 감정 데이터셋에 맞춰 Fine-Tuning 수행",
   "id": "604a0a9c151d3ed3"
  },
  {
   "metadata": {
    "ExecuteTime": {
     "end_time": "2024-11-30T05:16:46.597351Z",
     "start_time": "2024-11-30T05:16:28.953124Z"
    }
   },
   "cell_type": "code",
   "source": [
    "import os\n",
    "import pandas as pd\n",
    "import numpy as np\n",
    "import tensorflow as tf\n",
    "import matplotlib.pyplot as plt\n",
    "from sklearn.model_selection import train_test_split\n",
    "from tensorflow.keras.callbacks import EarlyStopping\n",
    "import urllib.request\n",
    "from transformers import BertTokenizer\n",
    "from sklearn.utils.class_weight import compute_class_weight\n",
    "from tensorflow.keras.callbacks import EarlyStopping\n",
    "from transformers import TFBertForSequenceClassification\n",
    "from sklearn.metrics import confusion_matrix\n",
    "import seaborn as sns"
   ],
   "id": "52d0451f7f71b4ae",
   "outputs": [],
   "execution_count": 2
  },
  {
   "metadata": {},
   "cell_type": "markdown",
   "source": [
    "---\n",
    "### 금융 뉴스 감정 데이터셋 다운로드\n",
    "- 언어: 영어, 한국어\n",
    "- 데이터 건수: `4,846건`\n",
    "- 감정 라벨: `positive, neutral, negative`\n",
    "- 영문 데이터: 16명의 전문 연구자가 수동으로 라벨링하여 생성(Finance Phrase Bank (Malo et al., 2014))\n",
    "- 한국어 데이터: 영문 데이터를 한국어로 번역한 후 검수를 거쳐 추가(https://github.com/ukairia777/finance_sentiment_corpus)\n"
   ],
   "id": "a0652368dc3c3d31"
  },
  {
   "metadata": {
    "ExecuteTime": {
     "end_time": "2024-11-30T05:16:48.136142Z",
     "start_time": "2024-11-30T05:16:46.605718Z"
    }
   },
   "cell_type": "code",
   "source": [
    "# 데이터셋 URL과 저장 경로 설정\n",
    "DATASET_URL = \"https://raw.githubusercontent.com/ukairia777/finance_sentiment_corpus/main/finance_data.csv\"\n",
    "BASE_DIR = os.path.abspath(os.path.join(os.getcwd(), \"../\"))\n",
    "DATASET_DIR = os.path.join(BASE_DIR, \"data\")\n",
    "DATASET_NAME = os.path.join(DATASET_DIR, \"finance_news_data.csv\")\n",
    "\n",
    "# 저장 경로에 디렉터리가 없으면 생성\n",
    "os.makedirs(DATASET_DIR, exist_ok=True)\n",
    "\n",
    "# 데이터셋 다운로드\n",
    "urllib.request.urlretrieve(DATASET_URL, filename=DATASET_NAME)"
   ],
   "id": "fe5d12d54886941e",
   "outputs": [
    {
     "data": {
      "text/plain": [
       "('C:\\\\Users\\\\kg200\\\\Desktop\\\\StockSentimentPredictor\\\\data\\\\finance_news_data.csv',\n",
       " <http.client.HTTPMessage at 0x201775aa100>)"
      ]
     },
     "execution_count": 3,
     "metadata": {},
     "output_type": "execute_result"
    }
   ],
   "execution_count": 3
  },
  {
   "metadata": {},
   "cell_type": "markdown",
   "source": [
    "---\n",
    "### 데이터 셋 확인 및 전처리\n",
    "- `sentence` 열 삭제(영문 뉴스 제거)\n",
    "- 감정 레이블 숫자 치환 (0:neutral ,1:positive ,2:negative)\n",
    "- 결측값 여부 및 `kor_sentence`열의 고유한 값의 개수 확인\n",
    "- `kor_sentence` 컬럼을 기준으로 중복 제거"
   ],
   "id": "63676af88375010c"
  },
  {
   "metadata": {
    "ExecuteTime": {
     "end_time": "2024-11-30T05:16:52.671269Z",
     "start_time": "2024-11-30T05:16:52.518440Z"
    }
   },
   "cell_type": "code",
   "source": [
    "# 데이터 셋 확인\n",
    "dataset = pd.read_csv(DATASET_NAME)\n",
    "\n",
    "print('총 데이터 수: ',len(dataset), \"\\n\")\n",
    "print('원본 데이터')\n",
    "dataset"
   ],
   "id": "31b743d61c6a7cb0",
   "outputs": [
    {
     "name": "stdout",
     "output_type": "stream",
     "text": [
      "총 데이터 수:  4846 \n",
      "\n",
      "원본 데이터\n"
     ]
    },
    {
     "data": {
      "text/plain": [
       "        labels                                           sentence  \\\n",
       "0      neutral  According to Gran, the company has no plans to...   \n",
       "1      neutral  Technopolis plans to develop in stages an area...   \n",
       "2     negative  The international electronic industry company ...   \n",
       "3     positive  With the new production plant the company woul...   \n",
       "4     positive  According to the company's updated strategy fo...   \n",
       "...        ...                                                ...   \n",
       "4841  negative  LONDON MarketWatch -- Share prices ended lower...   \n",
       "4842   neutral  Rinkuskiai's beer sales fell by 6.5 per cent t...   \n",
       "4843  negative  Operating profit fell to EUR 35.4 mn from EUR ...   \n",
       "4844  negative  Net sales of the Paper segment decreased to EU...   \n",
       "4845  negative  Sales in Finland decreased by 10.5 % in Januar...   \n",
       "\n",
       "                                           kor_sentence  \n",
       "0     Gran에 따르면, 그 회사는 회사가 성장하고 있는 곳이지만, 모든 생산을 러시아로...  \n",
       "1     테크노폴리스는 컴퓨터 기술과 통신 분야에서 일하는 회사들을 유치하기 위해 10만 평...  \n",
       "2     국제 전자산업 회사인 엘코텍은 탈린 공장에서 수십 명의 직원을 해고했으며, 이전의 ...  \n",
       "3     새로운 생산공장으로 인해 회사는 예상되는 수요 증가를 충족시킬 수 있는 능력을 증가...  \n",
       "4     2009-2012년 회사의 업데이트된 전략에 따르면, Basware는 20% - 4...  \n",
       "...                                                 ...  \n",
       "4841  런던 마켓워치 -- 은행주의 반등이 FTSE 100지수의 약세를 상쇄하지 못하면서 ...  \n",
       "4842  린쿠스키아의 맥주 판매량은 416만 리터로 6.5% 감소했으며 카우노 알루스의 맥주...  \n",
       "4843  영업이익은 2007년 68.8 mn에서 35.4 mn으로 떨어졌으며, 선박 판매 이...  \n",
       "4844  페이퍼 부문 순매출은 2008년 2분기 241.1 mn에서 2009년 2분기 221...  \n",
       "4845   핀란드에서의 판매는 1월에 10.5% 감소한 반면, 국외에서의 판매는 17% 감소했다.  \n",
       "\n",
       "[4846 rows x 3 columns]"
      ],
      "text/html": [
       "<div>\n",
       "<style scoped>\n",
       "    .dataframe tbody tr th:only-of-type {\n",
       "        vertical-align: middle;\n",
       "    }\n",
       "\n",
       "    .dataframe tbody tr th {\n",
       "        vertical-align: top;\n",
       "    }\n",
       "\n",
       "    .dataframe thead th {\n",
       "        text-align: right;\n",
       "    }\n",
       "</style>\n",
       "<table border=\"1\" class=\"dataframe\">\n",
       "  <thead>\n",
       "    <tr style=\"text-align: right;\">\n",
       "      <th></th>\n",
       "      <th>labels</th>\n",
       "      <th>sentence</th>\n",
       "      <th>kor_sentence</th>\n",
       "    </tr>\n",
       "  </thead>\n",
       "  <tbody>\n",
       "    <tr>\n",
       "      <th>0</th>\n",
       "      <td>neutral</td>\n",
       "      <td>According to Gran, the company has no plans to...</td>\n",
       "      <td>Gran에 따르면, 그 회사는 회사가 성장하고 있는 곳이지만, 모든 생산을 러시아로...</td>\n",
       "    </tr>\n",
       "    <tr>\n",
       "      <th>1</th>\n",
       "      <td>neutral</td>\n",
       "      <td>Technopolis plans to develop in stages an area...</td>\n",
       "      <td>테크노폴리스는 컴퓨터 기술과 통신 분야에서 일하는 회사들을 유치하기 위해 10만 평...</td>\n",
       "    </tr>\n",
       "    <tr>\n",
       "      <th>2</th>\n",
       "      <td>negative</td>\n",
       "      <td>The international electronic industry company ...</td>\n",
       "      <td>국제 전자산업 회사인 엘코텍은 탈린 공장에서 수십 명의 직원을 해고했으며, 이전의 ...</td>\n",
       "    </tr>\n",
       "    <tr>\n",
       "      <th>3</th>\n",
       "      <td>positive</td>\n",
       "      <td>With the new production plant the company woul...</td>\n",
       "      <td>새로운 생산공장으로 인해 회사는 예상되는 수요 증가를 충족시킬 수 있는 능력을 증가...</td>\n",
       "    </tr>\n",
       "    <tr>\n",
       "      <th>4</th>\n",
       "      <td>positive</td>\n",
       "      <td>According to the company's updated strategy fo...</td>\n",
       "      <td>2009-2012년 회사의 업데이트된 전략에 따르면, Basware는 20% - 4...</td>\n",
       "    </tr>\n",
       "    <tr>\n",
       "      <th>...</th>\n",
       "      <td>...</td>\n",
       "      <td>...</td>\n",
       "      <td>...</td>\n",
       "    </tr>\n",
       "    <tr>\n",
       "      <th>4841</th>\n",
       "      <td>negative</td>\n",
       "      <td>LONDON MarketWatch -- Share prices ended lower...</td>\n",
       "      <td>런던 마켓워치 -- 은행주의 반등이 FTSE 100지수의 약세를 상쇄하지 못하면서 ...</td>\n",
       "    </tr>\n",
       "    <tr>\n",
       "      <th>4842</th>\n",
       "      <td>neutral</td>\n",
       "      <td>Rinkuskiai's beer sales fell by 6.5 per cent t...</td>\n",
       "      <td>린쿠스키아의 맥주 판매량은 416만 리터로 6.5% 감소했으며 카우노 알루스의 맥주...</td>\n",
       "    </tr>\n",
       "    <tr>\n",
       "      <th>4843</th>\n",
       "      <td>negative</td>\n",
       "      <td>Operating profit fell to EUR 35.4 mn from EUR ...</td>\n",
       "      <td>영업이익은 2007년 68.8 mn에서 35.4 mn으로 떨어졌으며, 선박 판매 이...</td>\n",
       "    </tr>\n",
       "    <tr>\n",
       "      <th>4844</th>\n",
       "      <td>negative</td>\n",
       "      <td>Net sales of the Paper segment decreased to EU...</td>\n",
       "      <td>페이퍼 부문 순매출은 2008년 2분기 241.1 mn에서 2009년 2분기 221...</td>\n",
       "    </tr>\n",
       "    <tr>\n",
       "      <th>4845</th>\n",
       "      <td>negative</td>\n",
       "      <td>Sales in Finland decreased by 10.5 % in Januar...</td>\n",
       "      <td>핀란드에서의 판매는 1월에 10.5% 감소한 반면, 국외에서의 판매는 17% 감소했다.</td>\n",
       "    </tr>\n",
       "  </tbody>\n",
       "</table>\n",
       "<p>4846 rows × 3 columns</p>\n",
       "</div>"
      ]
     },
     "execution_count": 4,
     "metadata": {},
     "output_type": "execute_result"
    }
   ],
   "execution_count": 4
  },
  {
   "metadata": {
    "ExecuteTime": {
     "end_time": "2024-11-30T05:16:54.762896Z",
     "start_time": "2024-11-30T05:16:54.727973Z"
    }
   },
   "cell_type": "code",
   "source": [
    "# 'sentence' 열 삭제(영문 뉴스 제거)\n",
    "del dataset['sentence']\n",
    "\n",
    "# 감정 레이블 숫자 치환\n",
    "dataset['labels'] = dataset['labels'].replace(['neutral', 'positive', 'negative'], [0, 1, 2])\n",
    "\n",
    "print('영문 뉴스 제거 및 감정 레이블 숫자 치환 데이터')\n",
    "dataset"
   ],
   "id": "c1617bd3cefdb5aa",
   "outputs": [
    {
     "name": "stdout",
     "output_type": "stream",
     "text": [
      "영문 뉴스 제거 및 감정 레이블 숫자 치환 데이터\n"
     ]
    },
    {
     "data": {
      "text/plain": [
       "      labels                                       kor_sentence\n",
       "0          0  Gran에 따르면, 그 회사는 회사가 성장하고 있는 곳이지만, 모든 생산을 러시아로...\n",
       "1          0  테크노폴리스는 컴퓨터 기술과 통신 분야에서 일하는 회사들을 유치하기 위해 10만 평...\n",
       "2          2  국제 전자산업 회사인 엘코텍은 탈린 공장에서 수십 명의 직원을 해고했으며, 이전의 ...\n",
       "3          1  새로운 생산공장으로 인해 회사는 예상되는 수요 증가를 충족시킬 수 있는 능력을 증가...\n",
       "4          1  2009-2012년 회사의 업데이트된 전략에 따르면, Basware는 20% - 4...\n",
       "...      ...                                                ...\n",
       "4841       2  런던 마켓워치 -- 은행주의 반등이 FTSE 100지수의 약세를 상쇄하지 못하면서 ...\n",
       "4842       0  린쿠스키아의 맥주 판매량은 416만 리터로 6.5% 감소했으며 카우노 알루스의 맥주...\n",
       "4843       2  영업이익은 2007년 68.8 mn에서 35.4 mn으로 떨어졌으며, 선박 판매 이...\n",
       "4844       2  페이퍼 부문 순매출은 2008년 2분기 241.1 mn에서 2009년 2분기 221...\n",
       "4845       2   핀란드에서의 판매는 1월에 10.5% 감소한 반면, 국외에서의 판매는 17% 감소했다.\n",
       "\n",
       "[4846 rows x 2 columns]"
      ],
      "text/html": [
       "<div>\n",
       "<style scoped>\n",
       "    .dataframe tbody tr th:only-of-type {\n",
       "        vertical-align: middle;\n",
       "    }\n",
       "\n",
       "    .dataframe tbody tr th {\n",
       "        vertical-align: top;\n",
       "    }\n",
       "\n",
       "    .dataframe thead th {\n",
       "        text-align: right;\n",
       "    }\n",
       "</style>\n",
       "<table border=\"1\" class=\"dataframe\">\n",
       "  <thead>\n",
       "    <tr style=\"text-align: right;\">\n",
       "      <th></th>\n",
       "      <th>labels</th>\n",
       "      <th>kor_sentence</th>\n",
       "    </tr>\n",
       "  </thead>\n",
       "  <tbody>\n",
       "    <tr>\n",
       "      <th>0</th>\n",
       "      <td>0</td>\n",
       "      <td>Gran에 따르면, 그 회사는 회사가 성장하고 있는 곳이지만, 모든 생산을 러시아로...</td>\n",
       "    </tr>\n",
       "    <tr>\n",
       "      <th>1</th>\n",
       "      <td>0</td>\n",
       "      <td>테크노폴리스는 컴퓨터 기술과 통신 분야에서 일하는 회사들을 유치하기 위해 10만 평...</td>\n",
       "    </tr>\n",
       "    <tr>\n",
       "      <th>2</th>\n",
       "      <td>2</td>\n",
       "      <td>국제 전자산업 회사인 엘코텍은 탈린 공장에서 수십 명의 직원을 해고했으며, 이전의 ...</td>\n",
       "    </tr>\n",
       "    <tr>\n",
       "      <th>3</th>\n",
       "      <td>1</td>\n",
       "      <td>새로운 생산공장으로 인해 회사는 예상되는 수요 증가를 충족시킬 수 있는 능력을 증가...</td>\n",
       "    </tr>\n",
       "    <tr>\n",
       "      <th>4</th>\n",
       "      <td>1</td>\n",
       "      <td>2009-2012년 회사의 업데이트된 전략에 따르면, Basware는 20% - 4...</td>\n",
       "    </tr>\n",
       "    <tr>\n",
       "      <th>...</th>\n",
       "      <td>...</td>\n",
       "      <td>...</td>\n",
       "    </tr>\n",
       "    <tr>\n",
       "      <th>4841</th>\n",
       "      <td>2</td>\n",
       "      <td>런던 마켓워치 -- 은행주의 반등이 FTSE 100지수의 약세를 상쇄하지 못하면서 ...</td>\n",
       "    </tr>\n",
       "    <tr>\n",
       "      <th>4842</th>\n",
       "      <td>0</td>\n",
       "      <td>린쿠스키아의 맥주 판매량은 416만 리터로 6.5% 감소했으며 카우노 알루스의 맥주...</td>\n",
       "    </tr>\n",
       "    <tr>\n",
       "      <th>4843</th>\n",
       "      <td>2</td>\n",
       "      <td>영업이익은 2007년 68.8 mn에서 35.4 mn으로 떨어졌으며, 선박 판매 이...</td>\n",
       "    </tr>\n",
       "    <tr>\n",
       "      <th>4844</th>\n",
       "      <td>2</td>\n",
       "      <td>페이퍼 부문 순매출은 2008년 2분기 241.1 mn에서 2009년 2분기 221...</td>\n",
       "    </tr>\n",
       "    <tr>\n",
       "      <th>4845</th>\n",
       "      <td>2</td>\n",
       "      <td>핀란드에서의 판매는 1월에 10.5% 감소한 반면, 국외에서의 판매는 17% 감소했다.</td>\n",
       "    </tr>\n",
       "  </tbody>\n",
       "</table>\n",
       "<p>4846 rows × 2 columns</p>\n",
       "</div>"
      ]
     },
     "execution_count": 5,
     "metadata": {},
     "output_type": "execute_result"
    }
   ],
   "execution_count": 5
  },
  {
   "metadata": {
    "ExecuteTime": {
     "end_time": "2024-11-30T05:16:56.527041Z",
     "start_time": "2024-11-30T05:16:56.476246Z"
    }
   },
   "cell_type": "code",
   "source": [
    "# 데이터 셋\n",
    "print('데이터 요약')\n",
    "dataset.info()\n",
    "\n",
    "print('\\n결측값 여부 :',dataset.isnull().values.any(), '\\n')\n",
    "\n",
    "print('kor_sentence 열의 유니크한 값 :',dataset['kor_sentence'].nunique(), '\\n')\n",
    "\n",
    "# 'kor_sentence' 기준으로 중복 제거\n",
    "dataset = dataset[~dataset['kor_sentence'].duplicated()]\n",
    "\n",
    "print('총 데이터 수 :',len(dataset))"
   ],
   "id": "dcf276726dd12229",
   "outputs": [
    {
     "name": "stdout",
     "output_type": "stream",
     "text": [
      "데이터 요약\n",
      "<class 'pandas.core.frame.DataFrame'>\n",
      "RangeIndex: 4846 entries, 0 to 4845\n",
      "Data columns (total 2 columns):\n",
      " #   Column        Non-Null Count  Dtype \n",
      "---  ------        --------------  ----- \n",
      " 0   labels        4846 non-null   int64 \n",
      " 1   kor_sentence  4846 non-null   object\n",
      "dtypes: int64(1), object(1)\n",
      "memory usage: 75.8+ KB\n",
      "\n",
      "결측값 여부 : False \n",
      "\n",
      "kor_sentence 열의 유니크한 값 : 4827 \n",
      "\n",
      "총 데이터 수 : 4827\n"
     ]
    }
   ],
   "execution_count": 6
  },
  {
   "metadata": {},
   "cell_type": "markdown",
   "source": [
    "---\n",
    "### 데이터 셋 감정 레이블 분포 확인\n",
    "- `barplot`을 사용하여 감정 레이블의 분포를 시각화"
   ],
   "id": "9b54ddd4a9d53a63"
  },
  {
   "metadata": {
    "ExecuteTime": {
     "end_time": "2024-11-30T05:17:03.791288Z",
     "start_time": "2024-11-30T05:17:02.776201Z"
    }
   },
   "cell_type": "code",
   "source": [
    "# 라벨 분포 시각화\n",
    "plt.figure(figsize=(10, 6))\n",
    "label_counts = dataset['labels'].value_counts()\n",
    "label_counts = label_counts.loc[[0, 1, 2]].fillna(0).astype(int)\n",
    "bar_plot = label_counts.plot(kind='bar', color='skyblue', edgecolor='black')\n",
    "\n",
    "# 제목 및 축 레이블 설정\n",
    "plt.title('Emotional Label Distribution Chart')\n",
    "plt.xlabel('Emotional Label')\n",
    "plt.ylabel('Count')\n",
    "plt.xticks(ticks=[0, 1, 2], labels=['neutral', 'positive', 'negative'], rotation=0)\n",
    "\n",
    "# 비율 표기\n",
    "total = label_counts.sum()\n",
    "for i, value in enumerate(label_counts):\n",
    "    percentage = (value / total) * 100\n",
    "    plt.text(i, value + 10, f'{percentage:.2f}%', ha='center', va='bottom', fontsize=10)\n",
    "\n",
    "plt.show()"
   ],
   "id": "a1987ba723d5e670",
   "outputs": [
    {
     "data": {
      "text/plain": [
       "<Figure size 1000x600 with 1 Axes>"
      ],
      "image/png": "[encoded data removed]"
     },
     "metadata": {},
     "output_type": "display_data"
    }
   ],
   "execution_count": 7
  },
  {
   "metadata": {},
   "cell_type": "markdown",
   "source": [
    "---\n",
    "### 데이터의 불균형 해결\n",
    "- 감정 레이블 분포를 확인 한 결과, **데이터에 불균형 문제** 발견\n",
    "- 데이터 셋을 훈련 데이터(80%)와 테스트 데이터(20%) 분리\n",
    "- 훈련 데이터의 감정 레이블 비율에 따라 적절한 **클래스 가중치**를 계산하여, 학습 시 **불균형 문제를 완화**"
   ],
   "id": "e272e3901abde027"
  },
  {
   "metadata": {
    "ExecuteTime": {
     "end_time": "2024-11-30T05:17:06.565539Z",
     "start_time": "2024-11-30T05:17:06.545565Z"
    }
   },
   "cell_type": "code",
   "source": [
    "# 데이터셋 분리\n",
    "train_data, val_data = train_test_split(dataset, test_size=0.2, random_state=42)\n",
    "\n",
    "# 클래스 가중치 계산\n",
    "class_weights = compute_class_weight(\n",
    "    class_weight='balanced',\n",
    "    classes=np.unique(train_data['labels']),\n",
    "    y=train_data['labels']\n",
    ")\n",
    "\n",
    "# 클래스 가중치 딕셔너리로 변환\n",
    "class_weight_dict = dict(enumerate(class_weights))\n",
    "\n",
    "# 가중치 확인\n",
    "print(class_weight_dict)"
   ],
   "id": "6979f74692a0da38",
   "outputs": [
    {
     "name": "stdout",
     "output_type": "stream",
     "text": [
      "{0: 0.562254259501966, 1: 1.1938775510204083, 2: 2.6052631578947367}\n"
     ]
    }
   ],
   "execution_count": 8
  },
  {
   "metadata": {},
   "cell_type": "markdown",
   "source": [
    "---\n",
    "### 모델과 토크나이저 설정 및 데이터 전처리\n",
    "- 감정 분석을 위해 **양방향 모델** `BERT`를 사용하여 뉴스 기사의 **문맥**을 효과적 이해\n",
    "- **한국어의 문법적 특성**에 맞춰 학습된 `KLUE BERT` 모델을 활용하여 한국어 데이터를 처리\n",
    "- 데이터 전처리 과정에서 토크나이저를 사용해 **문장을 정수 인코딩**하고, **패딩 및 트리밍을 적용**하여 BERT 모델에 적합한 형태로 변환\n",
    "- BERT 모델의 사전 학습된 가중치를 사용하여 뉴스 문장들을 효율적으로 **벡터화**하고, 이후 훈련 및 검증을 위한 데이터셋을 구성"
   ],
   "id": "ceb82d7dc2fc50"
  },
  {
   "metadata": {
    "ExecuteTime": {
     "end_time": "2024-11-30T05:17:16.403825Z",
     "start_time": "2024-11-30T05:17:08.968952Z"
    }
   },
   "cell_type": "code",
   "source": [
    "# 모델과 토크나이저 설정\n",
    "MODEL_NAME = \"klue/bert-base\"\n",
    "tokenizer = BertTokenizer.from_pretrained(MODEL_NAME)\n",
    "\n",
    "# 데이터 전처리 함수 정의\n",
    "def encode_data(data, output):\n",
    "    if output :\n",
    "        print(\"데이터 전처리 과정:\")\n",
    "        for i, sentence in enumerate(data['kor_sentence'].head(3)):  # 상위 3개만 출력\n",
    "            tokenized = tokenizer.encode_plus(\n",
    "                sentence,\n",
    "                padding=True,\n",
    "                truncation=True,\n",
    "                max_length=128,\n",
    "                return_tensors=\"tf\"\n",
    "            )\n",
    "            print(f\"문장 {i+1}: {sentence}\")\n",
    "            print(f\"토큰: {tokenizer.tokenize(sentence)}\")\n",
    "            print(f\"정수 인코딩: {tokenized['input_ids'][0].numpy()}\\n\")\n",
    "        \n",
    "    # 전체 데이터 토큰화\n",
    "    return tokenizer(\n",
    "        data['kor_sentence'].tolist(),\n",
    "        padding=True,\n",
    "        truncation=True,\n",
    "        max_length=128,\n",
    "        return_tensors=\"tf\"\n",
    "    )\n",
    "\n",
    "# 데이터 전처리\n",
    "train_encodings = encode_data(train_data, True)\n",
    "val_encodings = encode_data(val_data, False)\n",
    "\n",
    "# TensorFlow Dataset 생성\n",
    "train_dataset = tf.data.Dataset.from_tensor_slices((dict(train_encodings), train_data['labels'].tolist())).shuffle(1000).batch(16)\n",
    "val_dataset = tf.data.Dataset.from_tensor_slices((dict(val_encodings), val_data['labels'].tolist())).batch(16)"
   ],
   "id": "be3ab4d35a5c5550",
   "outputs": [
    {
     "name": "stderr",
     "output_type": "stream",
     "text": [
      "D:\\Anaconda\\envs\\stock_sentiment_predictor\\lib\\site-packages\\huggingface_hub\\file_download.py:797: FutureWarning: `resume_download` is deprecated and will be removed in version 1.0.0. Downloads always resume when possible. If you want to force a new download, use `force_download=True`.\n",
      "  warnings.warn(\n"
     ]
    },
    {
     "name": "stdout",
     "output_type": "stream",
     "text": [
      "데이터 전처리 과정:\n",
      "문장 1: 올리페카 칼라스부오가 이사회 부회장으로 선출되었다.\n",
      "토큰: ['올리', '##페', '##카', '칼라', '##스', '##부', '##오', '##가', '이사회', '부회장', '##으로', '선출', '##되', '##었', '##다', '.']\n",
      "정수 인코딩: [    2  4705  2743  2127 17278  2255  2144  2168  2116  9314  5875  6233\n",
      "  6940  2496  2359  2062    18     3]\n",
      "\n",
      "문장 2: Savcor FACE를 Cencorp에 매각하면 받을 대가주 평가와 우세한 환율 등의 요인으로 인해 아직 손익을 결정할 수 없는 결과가 초래될 것이다.\n",
      "토큰: ['S', '##av', '##co', '##r', 'FA', '##C', '##E', '##를', 'C', '##enc', '##or', '##p', '##에', '매각', '##하면', '받', '##을', '대가', '##주', '평가', '##와', '우세', '##한', '환율', '등', '##의', '요인', '##으로', '인해', '아직', '손익', '##을', '결정', '##할', '수', '없', '##는', '결과', '##가', '초래', '##될', '것', '##이다', '.']\n",
      "정수 인코딩: [    2    55 10702 17664  2008  8891  2108  2105  2138    39 15698  4020\n",
      "  2006  2170  5564  5643  1122  2069  6181  2223  3777  2522 10380  2470\n",
      "  6352   886  2079  5090  6233  4534  3919 13735  2069  3794  2085  1295\n",
      "  1415  2259  3731  2116  7298  2651   575 28674    18     3]\n",
      "\n",
      "문장 3: 이번 청약으로 TGK-10에 대한 포텀의 지분은 주식과 의결권의 76%를 약간 넘는 수준으로 늘어났다.\n",
      "토큰: ['이번', '청약', '##으로', 'T', '##G', '##K', '-', '10', '##에', '대한', '포', '##텀', '##의', '지분', '##은', '주식', '##과', '의결권', '##의', '76', '%', '를', '약간', '넘', '##는', '수준', '##으로', '늘어났', '##다', '.']\n",
      "정수 인코딩: [    2  3686  6615  6233    56  2341  2213    17  3633  2170  3618  1862\n",
      "  3189  2079  5570  2073  4313  2145 17340  2079  7115     9  1022  4943\n",
      "   749  2259  3921  6233  7983  2062    18     3]\n",
      "\n"
     ]
    }
   ],
   "execution_count": 9
  },
  {
   "metadata": {},
   "cell_type": "markdown",
   "source": [
    "---\n",
    "### 모델 학습\n",
    "- 과적합 방지를 위한 Dropout\n",
    "    - `Hidden Dropout`: 모델의 피드포워드 네트워크에서 특정 뉴런을 무작위로 비활성화하여 과적합 방지 및 일반화 성능 향상\n",
    "    - `Attention Dropout`: Self-Attention 메커니즘에서 어텐션 확률의 일부를 무작위로 비활성화하여 특정 어텐션 헤드에 의존하지 않도록 유도\n",
    "- 모델 학습 중 성능 향상 및 최적화를 위한 콜백 함수 정의 \n",
    "    - `EarlyStopping`으로 검증 정확도가 개선되지 않으면 학습 중단\n",
    "- 데이터 수에 맞춰 적당한 학습률 설정\n",
    "- 마지막 Epoch 결과 `val_loss: 0.4612`, `val_accuracy: 0.8271`"
   ],
   "id": "637a74fd704c9915"
  },
  {
   "metadata": {
    "ExecuteTime": {
     "end_time": "2024-11-29T15:35:47.731978Z",
     "start_time": "2024-11-29T15:30:47.477249Z"
    }
   },
   "cell_type": "code",
   "source": [
    "# BERT 모델 불러오기\n",
    "model = TFBertForSequenceClassification.from_pretrained(\n",
    "    MODEL_NAME,\n",
    "    num_labels=3,\n",
    "    hidden_dropout_prob=0.2,\n",
    "    attention_probs_dropout_prob=0.3\n",
    ")\n",
    "\n",
    "# 콜백 함수 정의 (EarlyStopping)\n",
    "callbacks = [\n",
    "    EarlyStopping(monitor='val_loss', min_delta=0.001, patience=2)\n",
    "]\n",
    "\n",
    "# 모델 학습 준비 (Adam 옵티마이저, 손실 함수 설정)\n",
    "optimizer = tf.keras.optimizers.Adam(learning_rate=3e-5)\n",
    "model.compile(\n",
    "    optimizer=optimizer,\n",
    "    loss=tf.keras.losses.SparseCategoricalCrossentropy(from_logits=True),\n",
    "    metrics=['accuracy']\n",
    ")\n",
    "\n",
    "# 모델 학습\n",
    "history = model.fit(\n",
    "    train_dataset,\n",
    "    validation_data=val_dataset,\n",
    "    epochs=10,\n",
    "    class_weight=class_weight_dict,\n",
    "    callbacks=callbacks\n",
    ")"
   ],
   "id": "458815d978df004d",
   "outputs": [
    {
     "name": "stderr",
     "output_type": "stream",
     "text": [
      "Some weights of the PyTorch model were not used when initializing the TF 2.0 model TFBertForSequenceClassification: ['bert.embeddings.position_ids']\n",
      "- This IS expected if you are initializing TFBertForSequenceClassification from a PyTorch model trained on another task or with another architecture (e.g. initializing a TFBertForSequenceClassification model from a BertForPreTraining model).\n",
      "- This IS NOT expected if you are initializing TFBertForSequenceClassification from a PyTorch model that you expect to be exactly identical (e.g. initializing a TFBertForSequenceClassification model from a BertForSequenceClassification model).\n",
      "Some weights or buffers of the TF 2.0 model TFBertForSequenceClassification were not initialized from the PyTorch model and are newly initialized: ['classifier.weight', 'classifier.bias']\n",
      "You should probably TRAIN this model on a down-stream task to be able to use it for predictions and inference.\n"
     ]
    },
    {
     "name": "stdout",
     "output_type": "stream",
     "text": [
      "Epoch 1/10\n",
      "242/242 [==============================] - 117s 400ms/step - loss: 0.5962 - accuracy: 0.7291 - val_loss: 0.4484 - val_accuracy: 0.8282\n",
      "Epoch 2/10\n",
      "242/242 [==============================] - 89s 369ms/step - loss: 0.3428 - accuracy: 0.8420 - val_loss: 0.4975 - val_accuracy: 0.7950\n",
      "Epoch 3/10\n",
      "242/242 [==============================] - 90s 370ms/step - loss: 0.2560 - accuracy: 0.8840 - val_loss: 0.4612 - val_accuracy: 0.8271\n"
     ]
    }
   ],
   "execution_count": 9
  },
  {
   "metadata": {},
   "cell_type": "markdown",
   "source": [
    "---\n",
    "### 학습 결과 시각화\n",
    "- `seaborn`의 `heatmap`을 사용하여 모델의 학습 결과를 혼동 행렬로 시각화"
   ],
   "id": "3e797178241e55bf"
  },
  {
   "metadata": {
    "ExecuteTime": {
     "end_time": "2024-11-29T15:35:56.536904Z",
     "start_time": "2024-11-29T15:35:47.749907Z"
    }
   },
   "cell_type": "code",
   "source": [
    "# 예측 및 혼동 행렬 계산\n",
    "val_predictions = model.predict(val_dataset)\n",
    "val_pred_classes = np.argmax(val_predictions.logits, axis=1)\n",
    "\n",
    "# 혼동 행렬\n",
    "conf_matrix = confusion_matrix(val_data['labels'], val_pred_classes)\n",
    "\n",
    "# 혼동 행렬 시각화\n",
    "def plot_confusion_matrix(conf_matrix):\n",
    "    plt.figure(figsize=(8, 6))\n",
    "    sns.heatmap(conf_matrix, annot=True, fmt='d', cmap='Blues',\n",
    "                xticklabels=['neutral', 'positive', 'negative'],\n",
    "                yticklabels=['neutral', 'positive', 'negative'])\n",
    "    plt.title(\"Confusion Matrix\")\n",
    "    plt.xlabel(\"Predicted\")\n",
    "    plt.ylabel(\"Actual\")\n",
    "    plt.show()\n",
    "\n",
    "plot_confusion_matrix(conf_matrix)"
   ],
   "id": "55ce62de2fe9c854",
   "outputs": [
    {
     "name": "stdout",
     "output_type": "stream",
     "text": [
      "61/61 [==============================] - 9s 97ms/step\n"
     ]
    },
    {
     "data": {
      "text/plain": [
       "<Figure size 800x600 with 2 Axes>"
      ],
      "image/png": "[encoded data removed]"
     },
     "metadata": {},
     "output_type": "display_data"
    }
   ],
   "execution_count": 10
  },
  {
   "metadata": {},
   "cell_type": "markdown",
   "source": [
    "---\n",
    "### 검증 데이터에 대한 모델 평가\n",
    "- 손실: **0.4612**\n",
    "- 정확도: **0.8271**"
   ],
   "id": "ff1083ceda78e423"
  },
  {
   "metadata": {
    "ExecuteTime": {
     "end_time": "2024-11-29T15:36:02.650526Z",
     "start_time": "2024-11-29T15:35:56.571483Z"
    }
   },
   "cell_type": "code",
   "source": [
    "# 모델 평가\n",
    "loss, accuracy = model.evaluate(val_dataset, batch_size=1024)\n",
    "\n",
    "print(f\"손실: {loss:.4f}\")\n",
    "print(f\"정확도: {accuracy:.4f}\")"
   ],
   "id": "8232e03de18ce292",
   "outputs": [
    {
     "name": "stdout",
     "output_type": "stream",
     "text": [
      "61/61 [==============================] - 6s 99ms/step - loss: 0.4612 - accuracy: 0.8271\n",
      "손실: 0.4612\n",
      "정확도: 0.8271\n"
     ]
    }
   ],
   "execution_count": 11
  },
  {
   "metadata": {},
   "cell_type": "markdown",
   "source": [
    "---\n",
    "### 베스트 모델과 토크나이저 저장"
   ],
   "id": "7a1d03da115e094a"
  },
  {
   "metadata": {
    "ExecuteTime": {
     "end_time": "2024-11-29T15:36:04.189671Z",
     "start_time": "2024-11-29T15:36:02.668437Z"
    }
   },
   "cell_type": "code",
   "source": [
    "# 학습 완료 후 모델 저장\n",
    "model.save_pretrained(\"../sentiment_analysis_model\")\n",
    "tokenizer.save_pretrained(\"../sentiment_analysis_model\")"
   ],
   "id": "9990988562163045",
   "outputs": [
    {
     "data": {
      "text/plain": [
       "('../sentiment_analysis_model\\\\tokenizer_config.json',\n",
       " '../sentiment_analysis_model\\\\special_tokens_map.json',\n",
       " '../sentiment_analysis_model\\\\vocab.txt',\n",
       " '../sentiment_analysis_model\\\\added_tokens.json')"
      ]
     },
     "execution_count": 12,
     "metadata": {},
     "output_type": "execute_result"
    }
   ],
   "execution_count": 12
  }
 ],
 "metadata": {
  "kernelspec": {
   "display_name": "Python 3",
   "language": "python",
   "name": "python3"
  },
  "language_info": {
   "codemirror_mode": {
    "name": "ipython",
    "version": 3
   },
   "file_extension": ".py",
   "mimetype": "text/x-python",
   "name": "python",
   "nbconvert_exporter": "python",
   "pygments_lexer": "ipython3",
   "version": "3.8.20"
  }
 },
 "nbformat": 4,
 "nbformat_minor": 5
}
