{
 "cells": [
  {
   "cell_type": "code",
   "id": "8dde0d2156b2eabd",
   "metadata": {
    "ExecuteTime": {
     "end_time": "2024-11-21T13:07:40.066704Z",
     "start_time": "2024-11-21T13:07:36.731290Z"
    }
   },
   "source": [
    "import os\n",
    "import pandas as pd\n",
    "import numpy as np\n",
    "import tensorflow as tf\n",
    "import matplotlib.pyplot as plt\n",
    "from sklearn.model_selection import train_test_split\n",
    "from tensorflow.keras.callbacks import EarlyStopping\n",
    "import urllib.request\n",
    "from transformers import BertTokenizer\n",
    "from sklearn.utils.class_weight import compute_class_weight\n",
    "from tensorflow.keras.callbacks import EarlyStopping, ModelCheckpoint\n",
    "from transformers import TFBertForSequenceClassification\n",
    "from sklearn.metrics import confusion_matrix\n",
    "import seaborn as sns"
   ],
   "outputs": [
    {
     "name": "stderr",
     "output_type": "stream",
     "text": [
      "D:\\Anaconda\\envs\\stock_sentiment_predictor\\lib\\site-packages\\tqdm\\auto.py:21: TqdmWarning: IProgress not found. Please update jupyter and ipywidgets. See https://ipywidgets.readthedocs.io/en/stable/user_install.html\n",
      "  from .autonotebook import tqdm as notebook_tqdm\n"
     ]
    }
   ],
   "execution_count": 1
  },
  {
   "cell_type": "markdown",
   "id": "50231ae48160078d",
   "metadata": {},
   "source": [
    "#### 뉴스감정 데이터 셋 다운로드\n",
    "- 언어: 영어, 한국어\n",
    "- 데이터 건수: 4,846건\n",
    "- 감정 라벨: positive, neutral, negative\n",
    "\n",
    "- 영문 데이터: 16명의 전문 연구자가 수동으로 라벨링하여 생성(Finance Phrase Bank (Malo et al., 2014))\n",
    "- 한국어 데이터: 영문 데이터를 한국어로 번역한 후 검수를 거쳐 추가(https://github.com/ukairia777/finance_sentiment_corpus)\n"
   ]
  },
  {
   "cell_type": "code",
   "id": "7726104e4175bf0a",
   "metadata": {
    "ExecuteTime": {
     "end_time": "2024-11-21T13:07:41.546973Z",
     "start_time": "2024-11-21T13:07:40.075921Z"
    }
   },
   "source": [
    "# 데이터셋 URL과 저장 경로 설정\n",
    "DATASET_URL = \"https://raw.githubusercontent.com/ukairia777/finance_sentiment_corpus/main/finance_data.csv\"\n",
    "BASE_DIR = os.path.abspath(os.path.join(os.getcwd(), \"../\"))\n",
    "DATASET_DIR = os.path.join(BASE_DIR, \"data\")\n",
    "DATASET_NAME = os.path.join(DATASET_DIR, \"finance_news_data.csv\")\n",
    "\n",
    "# 저장 경로에 디렉터리가 없으면 생성\n",
    "os.makedirs(DATASET_DIR, exist_ok=True)\n",
    "\n",
    "# 데이터셋 다운로드\n",
    "urllib.request.urlretrieve(DATASET_URL, filename=DATASET_NAME)"
   ],
   "outputs": [
    {
     "data": {
      "text/plain": [
       "('C:\\\\Users\\\\kg200\\\\Desktop\\\\StockSentimentPredictor\\\\data\\\\finance_news_data.csv',\n",
       " <http.client.HTTPMessage at 0x29cf8106040>)"
      ]
     },
     "execution_count": 2,
     "metadata": {},
     "output_type": "execute_result"
    }
   ],
   "execution_count": 2
  },
  {
   "cell_type": "markdown",
   "id": "2f530abfd286c315",
   "metadata": {},
   "source": [
    "#### 데이터 셋 확인 및 전처리\n",
    "- `sentence` 열 삭제(영문 뉴스 제거)\n",
    "- 감정 레이블 숫자 치환\n",
    "- 결측값 여부 및 `kor_sentence`열의 고유한 값의 개수 확인\n",
    "- `kor_sentence` 기준으로 중복 제거"
   ]
  },
  {
   "cell_type": "code",
   "id": "4e4d31759b8fb853",
   "metadata": {
    "ExecuteTime": {
     "end_time": "2024-11-21T13:07:41.685778Z",
     "start_time": "2024-11-21T13:07:41.641479Z"
    }
   },
   "source": [
    "# 데이터 셋 확인\n",
    "dataset = pd.read_csv(DATASET_NAME)\n",
    "\n",
    "print('총 데이터 수: ',len(dataset), \"\\n\")\n",
    "print('원본 데이터')\n",
    "dataset"
   ],
   "outputs": [
    {
     "name": "stdout",
     "output_type": "stream",
     "text": [
      "총 데이터 수:  4846 \n",
      "\n",
      "원본 데이터\n"
     ]
    },
    {
     "data": {
      "text/plain": [
       "        labels                                           sentence  \\\n",
       "0      neutral  According to Gran, the company has no plans to...   \n",
       "1      neutral  Technopolis plans to develop in stages an area...   \n",
       "2     negative  The international electronic industry company ...   \n",
       "3     positive  With the new production plant the company woul...   \n",
       "4     positive  According to the company's updated strategy fo...   \n",
       "...        ...                                                ...   \n",
       "4841  negative  LONDON MarketWatch -- Share prices ended lower...   \n",
       "4842   neutral  Rinkuskiai's beer sales fell by 6.5 per cent t...   \n",
       "4843  negative  Operating profit fell to EUR 35.4 mn from EUR ...   \n",
       "4844  negative  Net sales of the Paper segment decreased to EU...   \n",
       "4845  negative  Sales in Finland decreased by 10.5 % in Januar...   \n",
       "\n",
       "                                           kor_sentence  \n",
       "0     Gran에 따르면, 그 회사는 회사가 성장하고 있는 곳이지만, 모든 생산을 러시아로...  \n",
       "1     테크노폴리스는 컴퓨터 기술과 통신 분야에서 일하는 회사들을 유치하기 위해 10만 평...  \n",
       "2     국제 전자산업 회사인 엘코텍은 탈린 공장에서 수십 명의 직원을 해고했으며, 이전의 ...  \n",
       "3     새로운 생산공장으로 인해 회사는 예상되는 수요 증가를 충족시킬 수 있는 능력을 증가...  \n",
       "4     2009-2012년 회사의 업데이트된 전략에 따르면, Basware는 20% - 4...  \n",
       "...                                                 ...  \n",
       "4841  런던 마켓워치 -- 은행주의 반등이 FTSE 100지수의 약세를 상쇄하지 못하면서 ...  \n",
       "4842  린쿠스키아의 맥주 판매량은 416만 리터로 6.5% 감소했으며 카우노 알루스의 맥주...  \n",
       "4843  영업이익은 2007년 68.8 mn에서 35.4 mn으로 떨어졌으며, 선박 판매 이...  \n",
       "4844  페이퍼 부문 순매출은 2008년 2분기 241.1 mn에서 2009년 2분기 221...  \n",
       "4845   핀란드에서의 판매는 1월에 10.5% 감소한 반면, 국외에서의 판매는 17% 감소했다.  \n",
       "\n",
       "[4846 rows x 3 columns]"
      ],
      "text/html": [
       "<div>\n",
       "<style scoped>\n",
       "    .dataframe tbody tr th:only-of-type {\n",
       "        vertical-align: middle;\n",
       "    }\n",
       "\n",
       "    .dataframe tbody tr th {\n",
       "        vertical-align: top;\n",
       "    }\n",
       "\n",
       "    .dataframe thead th {\n",
       "        text-align: right;\n",
       "    }\n",
       "</style>\n",
       "<table border=\"1\" class=\"dataframe\">\n",
       "  <thead>\n",
       "    <tr style=\"text-align: right;\">\n",
       "      <th></th>\n",
       "      <th>labels</th>\n",
       "      <th>sentence</th>\n",
       "      <th>kor_sentence</th>\n",
       "    </tr>\n",
       "  </thead>\n",
       "  <tbody>\n",
       "    <tr>\n",
       "      <th>0</th>\n",
       "      <td>neutral</td>\n",
       "      <td>According to Gran, the company has no plans to...</td>\n",
       "      <td>Gran에 따르면, 그 회사는 회사가 성장하고 있는 곳이지만, 모든 생산을 러시아로...</td>\n",
       "    </tr>\n",
       "    <tr>\n",
       "      <th>1</th>\n",
       "      <td>neutral</td>\n",
       "      <td>Technopolis plans to develop in stages an area...</td>\n",
       "      <td>테크노폴리스는 컴퓨터 기술과 통신 분야에서 일하는 회사들을 유치하기 위해 10만 평...</td>\n",
       "    </tr>\n",
       "    <tr>\n",
       "      <th>2</th>\n",
       "      <td>negative</td>\n",
       "      <td>The international electronic industry company ...</td>\n",
       "      <td>국제 전자산업 회사인 엘코텍은 탈린 공장에서 수십 명의 직원을 해고했으며, 이전의 ...</td>\n",
       "    </tr>\n",
       "    <tr>\n",
       "      <th>3</th>\n",
       "      <td>positive</td>\n",
       "      <td>With the new production plant the company woul...</td>\n",
       "      <td>새로운 생산공장으로 인해 회사는 예상되는 수요 증가를 충족시킬 수 있는 능력을 증가...</td>\n",
       "    </tr>\n",
       "    <tr>\n",
       "      <th>4</th>\n",
       "      <td>positive</td>\n",
       "      <td>According to the company's updated strategy fo...</td>\n",
       "      <td>2009-2012년 회사의 업데이트된 전략에 따르면, Basware는 20% - 4...</td>\n",
       "    </tr>\n",
       "    <tr>\n",
       "      <th>...</th>\n",
       "      <td>...</td>\n",
       "      <td>...</td>\n",
       "      <td>...</td>\n",
       "    </tr>\n",
       "    <tr>\n",
       "      <th>4841</th>\n",
       "      <td>negative</td>\n",
       "      <td>LONDON MarketWatch -- Share prices ended lower...</td>\n",
       "      <td>런던 마켓워치 -- 은행주의 반등이 FTSE 100지수의 약세를 상쇄하지 못하면서 ...</td>\n",
       "    </tr>\n",
       "    <tr>\n",
       "      <th>4842</th>\n",
       "      <td>neutral</td>\n",
       "      <td>Rinkuskiai's beer sales fell by 6.5 per cent t...</td>\n",
       "      <td>린쿠스키아의 맥주 판매량은 416만 리터로 6.5% 감소했으며 카우노 알루스의 맥주...</td>\n",
       "    </tr>\n",
       "    <tr>\n",
       "      <th>4843</th>\n",
       "      <td>negative</td>\n",
       "      <td>Operating profit fell to EUR 35.4 mn from EUR ...</td>\n",
       "      <td>영업이익은 2007년 68.8 mn에서 35.4 mn으로 떨어졌으며, 선박 판매 이...</td>\n",
       "    </tr>\n",
       "    <tr>\n",
       "      <th>4844</th>\n",
       "      <td>negative</td>\n",
       "      <td>Net sales of the Paper segment decreased to EU...</td>\n",
       "      <td>페이퍼 부문 순매출은 2008년 2분기 241.1 mn에서 2009년 2분기 221...</td>\n",
       "    </tr>\n",
       "    <tr>\n",
       "      <th>4845</th>\n",
       "      <td>negative</td>\n",
       "      <td>Sales in Finland decreased by 10.5 % in Januar...</td>\n",
       "      <td>핀란드에서의 판매는 1월에 10.5% 감소한 반면, 국외에서의 판매는 17% 감소했다.</td>\n",
       "    </tr>\n",
       "  </tbody>\n",
       "</table>\n",
       "<p>4846 rows × 3 columns</p>\n",
       "</div>"
      ]
     },
     "execution_count": 3,
     "metadata": {},
     "output_type": "execute_result"
    }
   ],
   "execution_count": 3
  },
  {
   "cell_type": "code",
   "id": "befc00c460bcd7ee",
   "metadata": {
    "ExecuteTime": {
     "end_time": "2024-11-21T13:07:41.776944Z",
     "start_time": "2024-11-21T13:07:41.748616Z"
    }
   },
   "source": [
    "# 'sentence' 열 삭제(영문 뉴스 제거)\n",
    "del dataset['sentence']\n",
    "\n",
    "# 감정 레이블 숫자 치환\n",
    "dataset['labels'] = dataset['labels'].replace(['neutral', 'positive', 'negative'], [0, 1, 2])\n",
    "\n",
    "print('영문 뉴스 제거 및 감정 레이블 숫자 치환 데이터')\n",
    "dataset"
   ],
   "outputs": [
    {
     "name": "stdout",
     "output_type": "stream",
     "text": [
      "영문 뉴스 제거 및 감정 레이블 숫자 치환 데이터\n"
     ]
    },
    {
     "data": {
      "text/plain": [
       "      labels                                       kor_sentence\n",
       "0          0  Gran에 따르면, 그 회사는 회사가 성장하고 있는 곳이지만, 모든 생산을 러시아로...\n",
       "1          0  테크노폴리스는 컴퓨터 기술과 통신 분야에서 일하는 회사들을 유치하기 위해 10만 평...\n",
       "2          2  국제 전자산업 회사인 엘코텍은 탈린 공장에서 수십 명의 직원을 해고했으며, 이전의 ...\n",
       "3          1  새로운 생산공장으로 인해 회사는 예상되는 수요 증가를 충족시킬 수 있는 능력을 증가...\n",
       "4          1  2009-2012년 회사의 업데이트된 전략에 따르면, Basware는 20% - 4...\n",
       "...      ...                                                ...\n",
       "4841       2  런던 마켓워치 -- 은행주의 반등이 FTSE 100지수의 약세를 상쇄하지 못하면서 ...\n",
       "4842       0  린쿠스키아의 맥주 판매량은 416만 리터로 6.5% 감소했으며 카우노 알루스의 맥주...\n",
       "4843       2  영업이익은 2007년 68.8 mn에서 35.4 mn으로 떨어졌으며, 선박 판매 이...\n",
       "4844       2  페이퍼 부문 순매출은 2008년 2분기 241.1 mn에서 2009년 2분기 221...\n",
       "4845       2   핀란드에서의 판매는 1월에 10.5% 감소한 반면, 국외에서의 판매는 17% 감소했다.\n",
       "\n",
       "[4846 rows x 2 columns]"
      ],
      "text/html": [
       "<div>\n",
       "<style scoped>\n",
       "    .dataframe tbody tr th:only-of-type {\n",
       "        vertical-align: middle;\n",
       "    }\n",
       "\n",
       "    .dataframe tbody tr th {\n",
       "        vertical-align: top;\n",
       "    }\n",
       "\n",
       "    .dataframe thead th {\n",
       "        text-align: right;\n",
       "    }\n",
       "</style>\n",
       "<table border=\"1\" class=\"dataframe\">\n",
       "  <thead>\n",
       "    <tr style=\"text-align: right;\">\n",
       "      <th></th>\n",
       "      <th>labels</th>\n",
       "      <th>kor_sentence</th>\n",
       "    </tr>\n",
       "  </thead>\n",
       "  <tbody>\n",
       "    <tr>\n",
       "      <th>0</th>\n",
       "      <td>0</td>\n",
       "      <td>Gran에 따르면, 그 회사는 회사가 성장하고 있는 곳이지만, 모든 생산을 러시아로...</td>\n",
       "    </tr>\n",
       "    <tr>\n",
       "      <th>1</th>\n",
       "      <td>0</td>\n",
       "      <td>테크노폴리스는 컴퓨터 기술과 통신 분야에서 일하는 회사들을 유치하기 위해 10만 평...</td>\n",
       "    </tr>\n",
       "    <tr>\n",
       "      <th>2</th>\n",
       "      <td>2</td>\n",
       "      <td>국제 전자산업 회사인 엘코텍은 탈린 공장에서 수십 명의 직원을 해고했으며, 이전의 ...</td>\n",
       "    </tr>\n",
       "    <tr>\n",
       "      <th>3</th>\n",
       "      <td>1</td>\n",
       "      <td>새로운 생산공장으로 인해 회사는 예상되는 수요 증가를 충족시킬 수 있는 능력을 증가...</td>\n",
       "    </tr>\n",
       "    <tr>\n",
       "      <th>4</th>\n",
       "      <td>1</td>\n",
       "      <td>2009-2012년 회사의 업데이트된 전략에 따르면, Basware는 20% - 4...</td>\n",
       "    </tr>\n",
       "    <tr>\n",
       "      <th>...</th>\n",
       "      <td>...</td>\n",
       "      <td>...</td>\n",
       "    </tr>\n",
       "    <tr>\n",
       "      <th>4841</th>\n",
       "      <td>2</td>\n",
       "      <td>런던 마켓워치 -- 은행주의 반등이 FTSE 100지수의 약세를 상쇄하지 못하면서 ...</td>\n",
       "    </tr>\n",
       "    <tr>\n",
       "      <th>4842</th>\n",
       "      <td>0</td>\n",
       "      <td>린쿠스키아의 맥주 판매량은 416만 리터로 6.5% 감소했으며 카우노 알루스의 맥주...</td>\n",
       "    </tr>\n",
       "    <tr>\n",
       "      <th>4843</th>\n",
       "      <td>2</td>\n",
       "      <td>영업이익은 2007년 68.8 mn에서 35.4 mn으로 떨어졌으며, 선박 판매 이...</td>\n",
       "    </tr>\n",
       "    <tr>\n",
       "      <th>4844</th>\n",
       "      <td>2</td>\n",
       "      <td>페이퍼 부문 순매출은 2008년 2분기 241.1 mn에서 2009년 2분기 221...</td>\n",
       "    </tr>\n",
       "    <tr>\n",
       "      <th>4845</th>\n",
       "      <td>2</td>\n",
       "      <td>핀란드에서의 판매는 1월에 10.5% 감소한 반면, 국외에서의 판매는 17% 감소했다.</td>\n",
       "    </tr>\n",
       "  </tbody>\n",
       "</table>\n",
       "<p>4846 rows × 2 columns</p>\n",
       "</div>"
      ]
     },
     "execution_count": 4,
     "metadata": {},
     "output_type": "execute_result"
    }
   ],
   "execution_count": 4
  },
  {
   "cell_type": "code",
   "id": "a67b7573a1b22ba5",
   "metadata": {
    "ExecuteTime": {
     "end_time": "2024-11-21T13:07:41.917582Z",
     "start_time": "2024-11-21T13:07:41.882322Z"
    }
   },
   "source": [
    "# 데이터 셋\n",
    "print('데이터 요약')\n",
    "dataset.info()\n",
    "\n",
    "print('\\n결측값 여부 :',dataset.isnull().values.any(), '\\n')\n",
    "\n",
    "print('kor_sentence 열의 유니크한 값 :',dataset['kor_sentence'].nunique(), '\\n')\n",
    "\n",
    "# 'kor_sentence' 기준으로 중복 제거\n",
    "dataset = dataset[~dataset['kor_sentence'].duplicated()]\n",
    "\n",
    "print('총 데이터 수 :',len(dataset))"
   ],
   "outputs": [
    {
     "name": "stdout",
     "output_type": "stream",
     "text": [
      "데이터 요약\n",
      "<class 'pandas.core.frame.DataFrame'>\n",
      "RangeIndex: 4846 entries, 0 to 4845\n",
      "Data columns (total 2 columns):\n",
      " #   Column        Non-Null Count  Dtype \n",
      "---  ------        --------------  ----- \n",
      " 0   labels        4846 non-null   int64 \n",
      " 1   kor_sentence  4846 non-null   object\n",
      "dtypes: int64(1), object(1)\n",
      "memory usage: 75.8+ KB\n",
      "\n",
      "결측값 여부 : False \n",
      "\n",
      "kor_sentence 열의 유니크한 값 : 4827 \n",
      "\n",
      "총 데이터 수 : 4827\n"
     ]
    }
   ],
   "execution_count": 5
  },
  {
   "cell_type": "markdown",
   "id": "89d40770292a1fe9",
   "metadata": {},
   "source": [
    "#### 데이터 셋 감정 레이블 분포 확인\n",
    "- `barplot`을 사용하여 감정 레이블의 분포를 시각화"
   ]
  },
  {
   "cell_type": "code",
   "id": "6b201cf0f1eed31",
   "metadata": {
    "ExecuteTime": {
     "end_time": "2024-11-21T13:07:42.396302Z",
     "start_time": "2024-11-21T13:07:42.044546Z"
    }
   },
   "source": [
    "# 라벨 분포 시각화\n",
    "plt.figure(figsize=(10, 6))\n",
    "label_counts = dataset['labels'].value_counts()\n",
    "bar_plot = label_counts.plot(kind='bar', color='skyblue', edgecolor='black')\n",
    "\n",
    "# 제목 및 축 레이블 설정\n",
    "plt.title('Emotional Label Distribution Chart')\n",
    "plt.xlabel('Emotional Label')\n",
    "plt.ylabel('Count')\n",
    "plt.xticks(ticks=[0, 1, 2], labels=['neutral', 'positive', 'negative'], rotation=0)\n",
    "\n",
    "# 비율 표기\n",
    "total = label_counts.sum()\n",
    "for i, value in enumerate(label_counts):\n",
    "    percentage = (value / total) * 100\n",
    "    plt.text(i, value + 10, f'{percentage:.2f}%', ha='center', va='bottom', fontsize=10)\n",
    "\n",
    "plt.show()"
   ],
   "outputs": [
    {
     "data": {
      "text/plain": [
       "<Figure size 1000x600 with 1 Axes>"
      ],
      "image/png": "[encoded data removed]"
     },
     "metadata": {},
     "output_type": "display_data"
    }
   ],
   "execution_count": 6
  },
  {
   "cell_type": "markdown",
   "id": "6955f413d52f7557",
   "metadata": {},
   "source": [
    "#### 데이터의 불균형 해결\n",
    "- 감정 레이블 분포를 확인 한 결과, 데이터에 불균형 문제 발견\n",
    "- 데이터 셋을 훈련 데이터(80%)와 테스트 데이터(20%) 분리\n",
    "- 훈련 데이터의 감정 레이블 비율에 따라 적절한 클래스 가중치를 계산하여, 학습 시 불균형 문제를 완화"
   ]
  },
  {
   "cell_type": "code",
   "id": "841bdc9d87fb6ced",
   "metadata": {
    "ExecuteTime": {
     "end_time": "2024-11-21T13:07:42.457591Z",
     "start_time": "2024-11-21T13:07:42.444367Z"
    }
   },
   "source": [
    "# 데이터셋 분리\n",
    "train_data, val_data = train_test_split(dataset, test_size=0.2, random_state=42)\n",
    "\n",
    "# 클래스 가중치 계산\n",
    "class_weights = compute_class_weight(\n",
    "    class_weight='balanced',\n",
    "    classes=np.unique(train_data['labels']),\n",
    "    y=train_data['labels']\n",
    ")\n",
    "\n",
    "# 클래스 가중치 딕셔너리로 변환\n",
    "class_weight_dict = dict(enumerate(class_weights))\n",
    "\n",
    "# 가중치 확인\n",
    "print(class_weight_dict)"
   ],
   "outputs": [
    {
     "name": "stdout",
     "output_type": "stream",
     "text": [
      "{0: 0.562254259501966, 1: 1.1938775510204083, 2: 2.6052631578947367}\n"
     ]
    }
   ],
   "execution_count": 7
  },
  {
   "cell_type": "markdown",
   "id": "205350b0e9d96780",
   "metadata": {},
   "source": [
    "#### 모델과 토크나이저 설정 및 데이터 전처리\n",
    "- 감정 분석을 위해 양방향 모델 `BERT`를 사용하여 뉴스 기사의 문맥을 효과적 이해\n",
    "- 한국어의 문법적 특성에 맞춰 학습된 `KLUE BERT` 모델을 활용하여 한국어 데이터를 처리\n",
    "- 데이터 전처리 과정에서 토크나이저를 사용해 문장을 정수 인코딩하고, 패딩 및 트리밍을 적용하여 BERT 모델에 적합한 형태로 변환\n",
    "- BERT 모델의 사전 학습된 가중치를 사용하여 뉴스 문장들을 효율적으로 벡터화하고, 이후 훈련 및 검증을 위한 데이터셋을 구성"
   ]
  },
  {
   "cell_type": "code",
   "id": "4a9b30f4a91b32a3",
   "metadata": {
    "ExecuteTime": {
     "end_time": "2024-11-21T13:07:45.047797Z",
     "start_time": "2024-11-21T13:07:42.469980Z"
    }
   },
   "source": [
    "# 모델과 토크나이저 설정\n",
    "MODEL_NAME = \"klue/bert-base\"\n",
    "tokenizer = BertTokenizer.from_pretrained(MODEL_NAME)\n",
    "\n",
    "# 데이터 전처리 함수 정의\n",
    "def encode_data(data):\n",
    "    return tokenizer(\n",
    "        data['kor_sentence'].tolist(),\n",
    "        padding=True,\n",
    "        truncation=True,\n",
    "        max_length=128,\n",
    "        return_tensors=\"tf\"\n",
    "    )\n",
    "\n",
    "# 데이터 전처리\n",
    "train_encodings = encode_data(train_data)\n",
    "val_encodings = encode_data(val_data)\n",
    "\n",
    "# TensorFlow Dataset 생성\n",
    "train_dataset = tf.data.Dataset.from_tensor_slices((dict(train_encodings), train_data['labels'].tolist())).shuffle(1000).batch(16)\n",
    "val_dataset = tf.data.Dataset.from_tensor_slices((dict(val_encodings), val_data['labels'].tolist())).batch(16)"
   ],
   "outputs": [
    {
     "name": "stderr",
     "output_type": "stream",
     "text": [
      "D:\\Anaconda\\envs\\stock_sentiment_predictor\\lib\\site-packages\\huggingface_hub\\file_download.py:797: FutureWarning: `resume_download` is deprecated and will be removed in version 1.0.0. Downloads always resume when possible. If you want to force a new download, use `force_download=True`.\n",
      "  warnings.warn(\n"
     ]
    }
   ],
   "execution_count": 8
  },
  {
   "cell_type": "markdown",
   "id": "aaf475a62ed26db6",
   "metadata": {},
   "source": [
    "#### 모델 학습\n",
    "\n",
    "- 모델 학습 중 성능 향상 및 최적화를 위한 콜백 함수 정의 \n",
    "    - `ModelCheckpoint`를 통해 가장 성능이 좋은 모델 저장\n",
    "    - `EarlyStopping`으로 검증 정확도가 개선되지 않으면 학습 중단\n",
    "    - `ReduceLROnPlateau`를 통해 검증 손실이 개선되지 않으면 학습률 감소"
   ]
  },
  {
   "cell_type": "code",
   "id": "96769aef42768eaf",
   "metadata": {
    "ExecuteTime": {
     "end_time": "2024-11-21T13:15:24.253090Z",
     "start_time": "2024-11-21T13:07:45.080725Z"
    }
   },
   "source": [
    "# BERT 모델 불러오기\n",
    "model = TFBertForSequenceClassification.from_pretrained(\n",
    "    MODEL_NAME,\n",
    "    num_labels=3,\n",
    "    hidden_dropout_prob=0.2,\n",
    "    attention_probs_dropout_prob=0.3\n",
    ")\n",
    "\n",
    "# 콜백 함수 정의 (ModelCheckpoint, EarlyStopping, ReduceLROnPlateau)\n",
    "callbacks = [\n",
    "    ModelCheckpoint(\"../sentiment_best_model\", save_best_only=True),\n",
    "    EarlyStopping(monitor='val_loss', min_delta=0.001, patience=2),\n",
    "]\n",
    "\n",
    "# 모델 학습 준비 (Adam 옵티마이저, 손실 함수 설정)\n",
    "optimizer = tf.keras.optimizers.Adam(learning_rate=3e-5)\n",
    "model.compile(\n",
    "    optimizer=optimizer,\n",
    "    loss=tf.keras.losses.SparseCategoricalCrossentropy(from_logits=True),\n",
    "    metrics=['accuracy']\n",
    ")\n",
    "\n",
    "# 모델 학습\n",
    "history = model.fit(\n",
    "    train_dataset,\n",
    "    validation_data=val_dataset,\n",
    "    validation_split=0.2,\n",
    "    epochs=10,\n",
    "    class_weight=class_weight_dict,\n",
    "    callbacks=callbacks\n",
    ")"
   ],
   "outputs": [
    {
     "name": "stderr",
     "output_type": "stream",
     "text": [
      "D:\\Anaconda\\envs\\stock_sentiment_predictor\\lib\\site-packages\\huggingface_hub\\file_download.py:797: FutureWarning: `resume_download` is deprecated and will be removed in version 1.0.0. Downloads always resume when possible. If you want to force a new download, use `force_download=True`.\n",
      "  warnings.warn(\n",
      "Some weights of the PyTorch model were not used when initializing the TF 2.0 model TFBertForSequenceClassification: ['bert.embeddings.position_ids']\n",
      "- This IS expected if you are initializing TFBertForSequenceClassification from a PyTorch model trained on another task or with another architecture (e.g. initializing a TFBertForSequenceClassification model from a BertForPreTraining model).\n",
      "- This IS NOT expected if you are initializing TFBertForSequenceClassification from a PyTorch model that you expect to be exactly identical (e.g. initializing a TFBertForSequenceClassification model from a BertForSequenceClassification model).\n",
      "Some weights or buffers of the TF 2.0 model TFBertForSequenceClassification were not initialized from the PyTorch model and are newly initialized: ['classifier.weight', 'classifier.bias']\n",
      "You should probably TRAIN this model on a down-stream task to be able to use it for predictions and inference.\n"
     ]
    },
    {
     "name": "stdout",
     "output_type": "stream",
     "text": [
      "Epoch 1/10\n",
      "242/242 [==============================] - ETA: 0s - loss: 0.5766 - accuracy: 0.7335"
     ]
    },
    {
     "name": "stderr",
     "output_type": "stream",
     "text": [
      "WARNING:absl:Found untraced functions such as serving, embeddings_layer_call_fn, embeddings_layer_call_and_return_conditional_losses, encoder_layer_call_fn, encoder_layer_call_and_return_conditional_losses while saving (showing 5 of 421). These functions will not be directly callable after loading.\n"
     ]
    },
    {
     "name": "stdout",
     "output_type": "stream",
     "text": [
      "INFO:tensorflow:Assets written to: ..\\sentiment_best_model\\assets\n"
     ]
    },
    {
     "name": "stderr",
     "output_type": "stream",
     "text": [
      "INFO:tensorflow:Assets written to: ..\\sentiment_best_model\\assets\n"
     ]
    },
    {
     "name": "stdout",
     "output_type": "stream",
     "text": [
      "242/242 [==============================] - 142s 517ms/step - loss: 0.5766 - accuracy: 0.7335 - val_loss: 0.4729 - val_accuracy: 0.8054\n",
      "Epoch 2/10\n",
      "242/242 [==============================] - ETA: 0s - loss: 0.3307 - accuracy: 0.8495"
     ]
    },
    {
     "name": "stderr",
     "output_type": "stream",
     "text": [
      "WARNING:absl:Found untraced functions such as serving, embeddings_layer_call_fn, embeddings_layer_call_and_return_conditional_losses, encoder_layer_call_fn, encoder_layer_call_and_return_conditional_losses while saving (showing 5 of 421). These functions will not be directly callable after loading.\n"
     ]
    },
    {
     "name": "stdout",
     "output_type": "stream",
     "text": [
      "INFO:tensorflow:Assets written to: ..\\sentiment_best_model\\assets\n"
     ]
    },
    {
     "name": "stderr",
     "output_type": "stream",
     "text": [
      "INFO:tensorflow:Assets written to: ..\\sentiment_best_model\\assets\n"
     ]
    },
    {
     "name": "stdout",
     "output_type": "stream",
     "text": [
      "242/242 [==============================] - 132s 547ms/step - loss: 0.3307 - accuracy: 0.8495 - val_loss: 0.4655 - val_accuracy: 0.8240\n",
      "Epoch 3/10\n",
      "242/242 [==============================] - 92s 377ms/step - loss: 0.2429 - accuracy: 0.8897 - val_loss: 0.5137 - val_accuracy: 0.8251\n",
      "Epoch 4/10\n",
      "242/242 [==============================] - 90s 373ms/step - loss: 0.1734 - accuracy: 0.9192 - val_loss: 0.5393 - val_accuracy: 0.8240\n"
     ]
    }
   ],
   "execution_count": 9
  },
  {
   "cell_type": "markdown",
   "id": "99b7b77714d34d4b",
   "metadata": {},
   "source": [
    "#### 혼동 행렬 시각화\n",
    "- `seaborn`의 `heatmap`을 사용하여 혼동 행렬 시각화"
   ]
  },
  {
   "cell_type": "code",
   "id": "447e1311c3361255",
   "metadata": {
    "ExecuteTime": {
     "end_time": "2024-11-21T13:15:33.763595Z",
     "start_time": "2024-11-21T13:15:24.285978Z"
    }
   },
   "source": [
    "# 예측 및 혼동 행렬 계산\n",
    "val_predictions = model.predict(val_dataset)\n",
    "val_pred_classes = np.argmax(val_predictions.logits, axis=1)\n",
    "\n",
    "# 혼동 행렬\n",
    "conf_matrix = confusion_matrix(val_data['labels'], val_pred_classes)\n",
    "\n",
    "# 혼동 행렬 시각화\n",
    "def plot_confusion_matrix(conf_matrix):\n",
    "    plt.figure(figsize=(8, 6))\n",
    "    sns.heatmap(conf_matrix, annot=True, fmt='d', cmap='Blues',\n",
    "                xticklabels=['neutral', 'positive', 'negative'],\n",
    "                yticklabels=['neutral', 'positive', 'negative'])\n",
    "    plt.title(\"Confusion Matrix\")\n",
    "    plt.xlabel(\"Predicted\")\n",
    "    plt.ylabel(\"Actual\")\n",
    "    plt.show()\n",
    "\n",
    "plot_confusion_matrix(conf_matrix)"
   ],
   "outputs": [
    {
     "name": "stdout",
     "output_type": "stream",
     "text": [
      "61/61 [==============================] - 9s 105ms/step\n"
     ]
    },
    {
     "data": {
      "text/plain": [
       "<Figure size 800x600 with 2 Axes>"
      ],
      "image/png": "[encoded data removed]"
     },
     "metadata": {},
     "output_type": "display_data"
    }
   ],
   "execution_count": 10
  },
  {
   "cell_type": "markdown",
   "id": "97f450efd5f4dc07",
   "metadata": {},
   "source": [
    "#### 검증 데이터에 대한 모델 평가"
   ]
  },
  {
   "cell_type": "code",
   "id": "14743382c14e9b7e",
   "metadata": {
    "ExecuteTime": {
     "end_time": "2024-11-21T13:15:40.031622Z",
     "start_time": "2024-11-21T13:15:33.798530Z"
    }
   },
   "source": [
    "# 모델 평가\n",
    "loss, accuracy = model.evaluate(val_dataset, batch_size=1024)\n",
    "\n",
    "print(f\"손실: {loss:.4f}\")\n",
    "print(f\"정확도: {accuracy:.4f}\")"
   ],
   "outputs": [
    {
     "name": "stdout",
     "output_type": "stream",
     "text": [
      "61/61 [==============================] - 6s 101ms/step - loss: 0.5393 - accuracy: 0.8240\n",
      "손실: 0.5393\n",
      "정확도: 0.8240\n"
     ]
    }
   ],
   "execution_count": 11
  }
 ],
 "metadata": {
  "kernelspec": {
   "display_name": "Python 3",
   "language": "python",
   "name": "python3"
  },
  "language_info": {
   "codemirror_mode": {
    "name": "ipython",
    "version": 3
   },
   "file_extension": ".py",
   "mimetype": "text/x-python",
   "name": "python",
   "nbconvert_exporter": "python",
   "pygments_lexer": "ipython3",
   "version": "3.8.20"
  }
 },
 "nbformat": 4,
 "nbformat_minor": 5
}
