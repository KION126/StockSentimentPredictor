{
 "cells": [
  {
   "metadata": {},
   "cell_type": "markdown",
   "source": "## 감정 점수 계산 및 시각화",
   "id": "bd70c692c7177dd9"
  },
  {
   "metadata": {},
   "cell_type": "markdown",
   "source": [
    "### 데이터 로드 및 초기 처리\n",
    "- `naver_news_crawling_data_with_sentiment.csv` 뉴스 감정데이터 Read\n",
    "- `pub_date`를 `datetime`의 형식으로 변환 \n",
    "- 뉴스 데이터가 적은 2024-11-03의 데이터를 제거하여 분석에서 제외"
   ],
   "id": "3e9b963fa7dbd272"
  },
  {
   "metadata": {
    "ExecuteTime": {
     "end_time": "2024-11-30T16:34:53.319776Z",
     "start_time": "2024-11-30T16:34:53.233979Z"
    }
   },
   "cell_type": "code",
   "source": [
    "import pandas as pd\n",
    "import matplotlib.pyplot as plt\n",
    "\n",
    "# 데이터 로드\n",
    "dataset = pd.read_csv('../data/naver_news_crawling_data_with_sentiment.csv', header=0)\n",
    "\n",
    "# 'pub_date' 컬럼을 datetime 형식으로 변환\n",
    "dataset['pub_date'] = pd.to_datetime(dataset['pub_date'], errors='coerce')\n",
    "\n",
    "# 특정 날짜 데이터 제거\n",
    "dataset = dataset[dataset['pub_date'].dt.date != pd.to_datetime('2024-11-03').date()]\n",
    "\n",
    "# 데이터 확인\n",
    "dataset.head()"
   ],
   "id": "9916cb70f035cb25",
   "outputs": [
    {
     "data": {
      "text/plain": [
       "             pub_date                                        description  \\\n",
       "0 2024-11-04 09:00:00  코스피 시가총액 상위 10개 종목 중에서는 <SK하이닉스>000660 121 삼성전...   \n",
       "1 2024-11-04 09:00:00  시가총액 상위 종목 중 삼성전자137 <SK하이닉스>170 등 반도체주와 현대차16...   \n",
       "2 2024-11-04 09:00:00  KB증권은 지난 달 23일부터 AI 실적속보를 통해 삼성전자 <SK하이닉스> 현대차...   \n",
       "3 2024-11-04 09:00:00  KB증권은 지난달 23일부터 AI 실적속보를 통해 삼성전자 <SK하이닉스> 현대차 ...   \n",
       "4 2024-11-04 09:00:00  KB증권은 지난 달 23일부터 AI 실적속보를 통해 삼성전자 <SK하이닉스> 현대차...   \n",
       "\n",
       "   sentiment  \n",
       "0          1  \n",
       "1          0  \n",
       "2          0  \n",
       "3          0  \n",
       "4          0  "
      ],
      "text/html": [
       "<div>\n",
       "<style scoped>\n",
       "    .dataframe tbody tr th:only-of-type {\n",
       "        vertical-align: middle;\n",
       "    }\n",
       "\n",
       "    .dataframe tbody tr th {\n",
       "        vertical-align: top;\n",
       "    }\n",
       "\n",
       "    .dataframe thead th {\n",
       "        text-align: right;\n",
       "    }\n",
       "</style>\n",
       "<table border=\"1\" class=\"dataframe\">\n",
       "  <thead>\n",
       "    <tr style=\"text-align: right;\">\n",
       "      <th></th>\n",
       "      <th>pub_date</th>\n",
       "      <th>description</th>\n",
       "      <th>sentiment</th>\n",
       "    </tr>\n",
       "  </thead>\n",
       "  <tbody>\n",
       "    <tr>\n",
       "      <th>0</th>\n",
       "      <td>2024-11-04 09:00:00</td>\n",
       "      <td>코스피 시가총액 상위 10개 종목 중에서는 &lt;SK하이닉스&gt;000660 121 삼성전...</td>\n",
       "      <td>1</td>\n",
       "    </tr>\n",
       "    <tr>\n",
       "      <th>1</th>\n",
       "      <td>2024-11-04 09:00:00</td>\n",
       "      <td>시가총액 상위 종목 중 삼성전자137 &lt;SK하이닉스&gt;170 등 반도체주와 현대차16...</td>\n",
       "      <td>0</td>\n",
       "    </tr>\n",
       "    <tr>\n",
       "      <th>2</th>\n",
       "      <td>2024-11-04 09:00:00</td>\n",
       "      <td>KB증권은 지난 달 23일부터 AI 실적속보를 통해 삼성전자 &lt;SK하이닉스&gt; 현대차...</td>\n",
       "      <td>0</td>\n",
       "    </tr>\n",
       "    <tr>\n",
       "      <th>3</th>\n",
       "      <td>2024-11-04 09:00:00</td>\n",
       "      <td>KB증권은 지난달 23일부터 AI 실적속보를 통해 삼성전자 &lt;SK하이닉스&gt; 현대차 ...</td>\n",
       "      <td>0</td>\n",
       "    </tr>\n",
       "    <tr>\n",
       "      <th>4</th>\n",
       "      <td>2024-11-04 09:00:00</td>\n",
       "      <td>KB증권은 지난 달 23일부터 AI 실적속보를 통해 삼성전자 &lt;SK하이닉스&gt; 현대차...</td>\n",
       "      <td>0</td>\n",
       "    </tr>\n",
       "  </tbody>\n",
       "</table>\n",
       "</div>"
      ]
     },
     "execution_count": 21,
     "metadata": {},
     "output_type": "execute_result"
    }
   ],
   "execution_count": 21
  },
  {
   "metadata": {},
   "cell_type": "markdown",
   "source": [
    "---\n",
    "### 날짜 및 시간 추출\n",
    "- `pub_date`에서 날짜 정보를 추출하여 `day` 컬럼 생성\n"
   ],
   "id": "e12b8116c61256e8"
  },
  {
   "metadata": {
    "ExecuteTime": {
     "end_time": "2024-11-30T16:34:53.383633Z",
     "start_time": "2024-11-30T16:34:53.369698Z"
    }
   },
   "cell_type": "code",
   "source": [
    "# 날짜(day) 추출\n",
    "dataset['day'] = dataset['pub_date'].dt.date\n",
    "\n",
    "# 데이터 확인\n",
    "dataset[['pub_date', 'day']].head()"
   ],
   "id": "21bc2a189e351609",
   "outputs": [
    {
     "data": {
      "text/plain": [
       "             pub_date         day\n",
       "0 2024-11-04 09:00:00  2024-11-04\n",
       "1 2024-11-04 09:00:00  2024-11-04\n",
       "2 2024-11-04 09:00:00  2024-11-04\n",
       "3 2024-11-04 09:00:00  2024-11-04\n",
       "4 2024-11-04 09:00:00  2024-11-04"
      ],
      "text/html": [
       "<div>\n",
       "<style scoped>\n",
       "    .dataframe tbody tr th:only-of-type {\n",
       "        vertical-align: middle;\n",
       "    }\n",
       "\n",
       "    .dataframe tbody tr th {\n",
       "        vertical-align: top;\n",
       "    }\n",
       "\n",
       "    .dataframe thead th {\n",
       "        text-align: right;\n",
       "    }\n",
       "</style>\n",
       "<table border=\"1\" class=\"dataframe\">\n",
       "  <thead>\n",
       "    <tr style=\"text-align: right;\">\n",
       "      <th></th>\n",
       "      <th>pub_date</th>\n",
       "      <th>day</th>\n",
       "    </tr>\n",
       "  </thead>\n",
       "  <tbody>\n",
       "    <tr>\n",
       "      <th>0</th>\n",
       "      <td>2024-11-04 09:00:00</td>\n",
       "      <td>2024-11-04</td>\n",
       "    </tr>\n",
       "    <tr>\n",
       "      <th>1</th>\n",
       "      <td>2024-11-04 09:00:00</td>\n",
       "      <td>2024-11-04</td>\n",
       "    </tr>\n",
       "    <tr>\n",
       "      <th>2</th>\n",
       "      <td>2024-11-04 09:00:00</td>\n",
       "      <td>2024-11-04</td>\n",
       "    </tr>\n",
       "    <tr>\n",
       "      <th>3</th>\n",
       "      <td>2024-11-04 09:00:00</td>\n",
       "      <td>2024-11-04</td>\n",
       "    </tr>\n",
       "    <tr>\n",
       "      <th>4</th>\n",
       "      <td>2024-11-04 09:00:00</td>\n",
       "      <td>2024-11-04</td>\n",
       "    </tr>\n",
       "  </tbody>\n",
       "</table>\n",
       "</div>"
      ]
     },
     "execution_count": 22,
     "metadata": {},
     "output_type": "execute_result"
    }
   ],
   "execution_count": 22
  },
  {
   "metadata": {},
   "cell_type": "markdown",
   "source": [
    "---\n",
    "### 감정 점수 변환\n",
    "- 감정 레이블을 점수로 매핑\n",
    "  - 긍정(1) → +1\n",
    "  - 부정(2) → -1\n",
    "  - 중립(0) → 0"
   ],
   "id": "24758d936fc8ac31"
  },
  {
   "metadata": {
    "ExecuteTime": {
     "end_time": "2024-11-30T16:34:53.462422Z",
     "start_time": "2024-11-30T16:34:53.450462Z"
    }
   },
   "cell_type": "code",
   "source": [
    "# 감정 레이블 점수 매핑 및 변환\n",
    "emotion_mapping = {0: 0, 1: 1, 2: -1}\n",
    "dataset['sentiment_score'] = dataset['sentiment'].map(emotion_mapping)\n",
    "\n",
    "# 데이터 확인\n",
    "dataset[['sentiment', 'sentiment_score']].head()"
   ],
   "id": "466caa5d872121ea",
   "outputs": [
    {
     "data": {
      "text/plain": [
       "   sentiment  sentiment_score\n",
       "0          1                1\n",
       "1          0                0\n",
       "2          0                0\n",
       "3          0                0\n",
       "4          0                0"
      ],
      "text/html": [
       "<div>\n",
       "<style scoped>\n",
       "    .dataframe tbody tr th:only-of-type {\n",
       "        vertical-align: middle;\n",
       "    }\n",
       "\n",
       "    .dataframe tbody tr th {\n",
       "        vertical-align: top;\n",
       "    }\n",
       "\n",
       "    .dataframe thead th {\n",
       "        text-align: right;\n",
       "    }\n",
       "</style>\n",
       "<table border=\"1\" class=\"dataframe\">\n",
       "  <thead>\n",
       "    <tr style=\"text-align: right;\">\n",
       "      <th></th>\n",
       "      <th>sentiment</th>\n",
       "      <th>sentiment_score</th>\n",
       "    </tr>\n",
       "  </thead>\n",
       "  <tbody>\n",
       "    <tr>\n",
       "      <th>0</th>\n",
       "      <td>1</td>\n",
       "      <td>1</td>\n",
       "    </tr>\n",
       "    <tr>\n",
       "      <th>1</th>\n",
       "      <td>0</td>\n",
       "      <td>0</td>\n",
       "    </tr>\n",
       "    <tr>\n",
       "      <th>2</th>\n",
       "      <td>0</td>\n",
       "      <td>0</td>\n",
       "    </tr>\n",
       "    <tr>\n",
       "      <th>3</th>\n",
       "      <td>0</td>\n",
       "      <td>0</td>\n",
       "    </tr>\n",
       "    <tr>\n",
       "      <th>4</th>\n",
       "      <td>0</td>\n",
       "      <td>0</td>\n",
       "    </tr>\n",
       "  </tbody>\n",
       "</table>\n",
       "</div>"
      ]
     },
     "execution_count": 23,
     "metadata": {},
     "output_type": "execute_result"
    }
   ],
   "execution_count": 23
  },
  {
   "metadata": {},
   "cell_type": "markdown",
   "source": [
    "---\n",
    "### 날짜 단위로 그룹화\n",
    "- `day` 기준으로 데이터를 그룹화하여 감정 점수 합산"
   ],
   "id": "8607717c1b5d820e"
  },
  {
   "metadata": {
    "ExecuteTime": {
     "end_time": "2024-11-30T16:34:53.618374Z",
     "start_time": "2024-11-30T16:34:53.603386Z"
    }
   },
   "cell_type": "code",
   "source": [
    "# 날짜 단위로 그룹화하여 감정 점수 합산\n",
    "emotion_scores_by_day = dataset.groupby('day')['sentiment_score'].sum().reset_index()\n",
    "\n",
    "# 데이터 확인\n",
    "emotion_scores_by_day.head()"
   ],
   "id": "920ca651461e5b82",
   "outputs": [
    {
     "data": {
      "text/plain": [
       "          day  sentiment_score\n",
       "0  2024-11-04              378\n",
       "1  2024-11-05               55\n",
       "2  2024-11-06               41\n",
       "3  2024-11-07              -46\n",
       "4  2024-11-08               35"
      ],
      "text/html": [
       "<div>\n",
       "<style scoped>\n",
       "    .dataframe tbody tr th:only-of-type {\n",
       "        vertical-align: middle;\n",
       "    }\n",
       "\n",
       "    .dataframe tbody tr th {\n",
       "        vertical-align: top;\n",
       "    }\n",
       "\n",
       "    .dataframe thead th {\n",
       "        text-align: right;\n",
       "    }\n",
       "</style>\n",
       "<table border=\"1\" class=\"dataframe\">\n",
       "  <thead>\n",
       "    <tr style=\"text-align: right;\">\n",
       "      <th></th>\n",
       "      <th>day</th>\n",
       "      <th>sentiment_score</th>\n",
       "    </tr>\n",
       "  </thead>\n",
       "  <tbody>\n",
       "    <tr>\n",
       "      <th>0</th>\n",
       "      <td>2024-11-04</td>\n",
       "      <td>378</td>\n",
       "    </tr>\n",
       "    <tr>\n",
       "      <th>1</th>\n",
       "      <td>2024-11-05</td>\n",
       "      <td>55</td>\n",
       "    </tr>\n",
       "    <tr>\n",
       "      <th>2</th>\n",
       "      <td>2024-11-06</td>\n",
       "      <td>41</td>\n",
       "    </tr>\n",
       "    <tr>\n",
       "      <th>3</th>\n",
       "      <td>2024-11-07</td>\n",
       "      <td>-46</td>\n",
       "    </tr>\n",
       "    <tr>\n",
       "      <th>4</th>\n",
       "      <td>2024-11-08</td>\n",
       "      <td>35</td>\n",
       "    </tr>\n",
       "  </tbody>\n",
       "</table>\n",
       "</div>"
      ]
     },
     "execution_count": 24,
     "metadata": {},
     "output_type": "execute_result"
    }
   ],
   "execution_count": 24
  },
  {
   "metadata": {},
   "cell_type": "markdown",
   "source": [
    "---\n",
    "### 감정 점수 시각화 및 csv저장\n",
    "- 날짜별 감정 점수를 라인 그래프로 시각화합니다.\n",
    "- x축(날짜)은 45도 회전하여 가독성을 높입니다."
   ],
   "id": "1ce5a8bf997400f8"
  },
  {
   "metadata": {
    "ExecuteTime": {
     "end_time": "2024-11-30T16:34:54.208638Z",
     "start_time": "2024-11-30T16:34:53.714089Z"
    }
   },
   "cell_type": "code",
   "source": [
    "# 결과를 CSV로 저장\n",
    "emotion_scores_by_day.to_csv('../data/sentiment_scores_by_day.csv', index=False)\n",
    "\n",
    "# 시각화: 하루 단위 감정 점수\n",
    "plt.figure(figsize=(12, 6))\n",
    "plt.plot(emotion_scores_by_day['day'], emotion_scores_by_day['sentiment_score'], label='Sentiment Score', color='blue')\n",
    "\n",
    "# 그래프 제목 및 레이블\n",
    "plt.title('Daily Scaled Sentiment Scores', fontsize=14)\n",
    "plt.xlabel('Date', fontsize=12)\n",
    "plt.ylabel('Scaled Sentiment Score', fontsize=12)\n",
    "plt.xticks(rotation=45)\n",
    "plt.grid(True)\n",
    "plt.tight_layout()\n",
    "plt.show()"
   ],
   "id": "a90b35fefb0c64eb",
   "outputs": [
    {
     "data": {
      "text/plain": [
       "<Figure size 1200x600 with 1 Axes>"
      ],
      "image/png": "[encoded data removed]"
     },
     "metadata": {},
     "output_type": "display_data"
    }
   ],
   "execution_count": 25
  }
 ],
 "metadata": {
  "kernelspec": {
   "display_name": "Python 3",
   "language": "python",
   "name": "python3"
  },
  "language_info": {
   "codemirror_mode": {
    "name": "ipython",
    "version": 2
   },
   "file_extension": ".py",
   "mimetype": "text/x-python",
   "name": "python",
   "nbconvert_exporter": "python",
   "pygments_lexer": "ipython2",
   "version": "2.7.6"
  }
 },
 "nbformat": 4,
 "nbformat_minor": 5
}
