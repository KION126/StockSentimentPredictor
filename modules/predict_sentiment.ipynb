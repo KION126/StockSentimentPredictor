{
 "cells": [
  {
   "cell_type": "code",
   "id": "initial_id",
   "metadata": {
    "collapsed": true,
    "ExecuteTime": {
     "end_time": "2024-11-27T10:54:28.388914Z",
     "start_time": "2024-11-27T10:54:23.720053Z"
    }
   },
   "source": [
    "import pandas as pd\n",
    "import numpy as np\n",
    "from transformers import TFBertForSequenceClassification, BertTokenizer"
   ],
   "outputs": [
    {
     "name": "stderr",
     "output_type": "stream",
     "text": [
      "D:\\Anaconda\\envs\\stock_sentiment_predictor\\lib\\site-packages\\tqdm\\auto.py:21: TqdmWarning: IProgress not found. Please update jupyter and ipywidgets. See https://ipywidgets.readthedocs.io/en/stable/user_install.html\n",
      "  from .autonotebook import tqdm as notebook_tqdm\n"
     ]
    }
   ],
   "execution_count": 1
  },
  {
   "metadata": {},
   "cell_type": "markdown",
   "source": [
    "### 뉴스 감정 분석 모델 적용\n",
    "- `뉴스 감정 데이터 셋`과 `KLUE BERT`모델을 사용하여 학습시킨 `sentiment_analysis_model` 모델 적용"
   ],
   "id": "afbd01a718e845fd"
  },
  {
   "metadata": {
    "ExecuteTime": {
     "end_time": "2024-11-27T10:54:31.126872Z",
     "start_time": "2024-11-27T10:54:28.395899Z"
    }
   },
   "cell_type": "code",
   "source": [
    "# 뉴스 감정 분석 모델과 토크나이저 불러오기\n",
    "MODEL_PATH = \"../subject_focus_finetuned_model\"  # 모델이 저장된 경로\n",
    "MODEL_NAME = \"klue/bert-base\"  # 모델 이름\n",
    "\n",
    "tokenizer = BertTokenizer.from_pretrained(MODEL_PATH)\n",
    "model = TFBertForSequenceClassification.from_pretrained(MODEL_PATH)"
   ],
   "id": "22615d39c6046386",
   "outputs": [
    {
     "name": "stderr",
     "output_type": "stream",
     "text": [
      "All model checkpoint layers were used when initializing TFBertForSequenceClassification.\n",
      "\n",
      "All the layers of TFBertForSequenceClassification were initialized from the model checkpoint at ../subject_focus_finetuned_model.\n",
      "If your task is similar to the task the model of the checkpoint was trained on, you can already use TFBertForSequenceClassification for predictions without further training.\n"
     ]
    }
   ],
   "execution_count": 2
  },
  {
   "metadata": {},
   "cell_type": "markdown",
   "source": [
    "### 네이버 뉴스 크롤링 데이터 전처리\n",
    "- 네이버 뉴스 API사용하여 `SK하이닉스` 키워드로 검색된 뉴스 데이터\n",
    "- 한 번에 요청할 수 있는 데이터가 1000개 이므로 `AWS 리눅스 서버`를 통한 `crontab 스케줄러`로 1시간 마다 API요청을 스케줄링하여 데이터 수집\n",
    "- 데이터 건수: 8681건\n",
    "- 데이터 기간: 2024_11_04_09:00 ~ 2024_11_27_18:00\n",
    "- 컬럼: `pub_date(%Y_%m_%d_%H:%S)`, `title`, `description`\n",
    "- 뉴스 감정 특성상 뉴스 내용이 중복되거나 비슷한 뉴스가 존재하나,\n",
    "이 또한 해당 뉴스 내용에 대한 이슈도라고 생각하여 중복 제거를 하지 않음."
   ],
   "id": "cdb5e92fb63e60be"
  },
  {
   "metadata": {
    "ExecuteTime": {
     "end_time": "2024-11-27T10:54:31.313596Z",
     "start_time": "2024-11-27T10:54:31.224806Z"
    }
   },
   "cell_type": "code",
   "source": [
    "# 네이버 뉴스 크롤링 데이터 불러오기\n",
    "news_data = pd.read_csv('../data/naver_news_crawling_data.csv', header=None, names=['pub_date', 'title', 'description'])"
   ],
   "id": "b938c7ecaf2f42b",
   "outputs": [],
   "execution_count": 3
  },
  {
   "metadata": {},
   "cell_type": "markdown",
   "source": [
    "- 결측값 제거: 수집과정에서 `description`컬럼의 값이 누락 된 2개의 데이터 제거\n",
    "- `title`컬럼 제거\n",
    "- `pub_data`, `description` 컬럼의 형식을 변환\n",
    "- 데이터를 BERT 모델에 적합한 형태로 변환"
   ],
   "id": "678cb32691e295bf"
  },
  {
   "metadata": {
    "ExecuteTime": {
     "end_time": "2024-11-27T10:54:36.541832Z",
     "start_time": "2024-11-27T10:54:31.319583Z"
    }
   },
   "cell_type": "code",
   "source": [
    "# 데이터 셋 요약 확인\n",
    "print('데이터 요약')\n",
    "news_data.info()\n",
    "\n",
    "# 결측값 확인\n",
    "print('\\n결측값 여부 :',news_data.isnull().values.any(), '\\n')\n",
    "\n",
    "# 'description' 컬럼에서 결측치 제거\n",
    "news_data = news_data.dropna(subset=['description'])\n",
    "\n",
    "# 'title' 컬럼(뉴스 제목) 제거\n",
    "news_data = news_data.drop(columns=['title'])\n",
    "\n",
    "# 'pub_date' 컬럼을 datetime 형식으로 변환\n",
    "news_data['pub_date'] = pd.to_datetime(news_data['pub_date'], format='%Y_%m_%d_%H:%S', errors='coerce')\n",
    "\n",
    "# 'description' 컬럼을 문자열 형식으로 변환\n",
    "news_data['description'] = news_data['description'].astype(str)\n",
    "\n",
    "# 데이터 셋 요약 확인\n",
    "print('데이터 요약')\n",
    "news_data.info()\n",
    "\n",
    "print('\\n총 데이터 수 :',len(news_data))\n",
    "\n",
    "# 데이터 전처리 (BERT 모델 입력에 맞게 텍스트를 인코딩)\n",
    "def encode_data(data):\n",
    "    return tokenizer(\n",
    "        data['description'].tolist(),\n",
    "        padding=True,\n",
    "        truncation=True,\n",
    "        max_length=128,\n",
    "        return_tensors=\"tf\"\n",
    "    )\n",
    "\n",
    "# 데이터 전처리\n",
    "encodings = encode_data(news_data)"
   ],
   "id": "aa11500ffa083850",
   "outputs": [
    {
     "name": "stdout",
     "output_type": "stream",
     "text": [
      "데이터 요약\n",
      "<class 'pandas.core.frame.DataFrame'>\n",
      "RangeIndex: 8682 entries, 0 to 8681\n",
      "Data columns (total 3 columns):\n",
      " #   Column       Non-Null Count  Dtype \n",
      "---  ------       --------------  ----- \n",
      " 0   pub_date     8682 non-null   object\n",
      " 1   title        8682 non-null   object\n",
      " 2   description  8680 non-null   object\n",
      "dtypes: object(3)\n",
      "memory usage: 203.6+ KB\n",
      "\n",
      "결측값 여부 : True \n",
      "\n",
      "데이터 요약\n",
      "<class 'pandas.core.frame.DataFrame'>\n",
      "Index: 8680 entries, 0 to 8681\n",
      "Data columns (total 2 columns):\n",
      " #   Column       Non-Null Count  Dtype         \n",
      "---  ------       --------------  -----         \n",
      " 0   pub_date     8680 non-null   datetime64[ns]\n",
      " 1   description  8680 non-null   object        \n",
      "dtypes: datetime64[ns](1), object(1)\n",
      "memory usage: 203.4+ KB\n",
      "\n",
      "총 데이터 수 : 8680\n"
     ]
    }
   ],
   "execution_count": 4
  },
  {
   "metadata": {},
   "cell_type": "markdown",
   "source": [
    "### 감정 레이블 예측\n",
    "- `description`컬럼을 대상으로 감정 레이블을 예측 (0:neutral ,1:positive ,2:negative)\n",
    "- 예측한 감정 레이블을 데이터프레임에 추가하고 새로운 데이터를 CSV파일로 저장"
   ],
   "id": "4e71169dc6a9162a"
  },
  {
   "metadata": {
    "ExecuteTime": {
     "end_time": "2024-11-27T10:55:36.047187Z",
     "start_time": "2024-11-27T10:54:36.607225Z"
    }
   },
   "cell_type": "code",
   "source": [
    "# 예측 실행\n",
    "predictions = model.predict(encodings['input_ids'])\n",
    "predicted_classes = np.argmax(predictions.logits, axis=1)"
   ],
   "id": "e756f570278e4904",
   "outputs": [
    {
     "name": "stdout",
     "output_type": "stream",
     "text": [
      "272/272 [==============================] - 59s 194ms/step\n"
     ]
    }
   ],
   "execution_count": 5
  },
  {
   "metadata": {
    "ExecuteTime": {
     "end_time": "2024-11-27T10:56:11.756303Z",
     "start_time": "2024-11-27T10:56:11.676697Z"
    }
   },
   "cell_type": "code",
   "source": [
    "# 예측된 감정 레이블을 데이터프레임에 추가\n",
    "news_data['sentiment'] = predicted_classes\n",
    "\n",
    "for label in range(3):\n",
    "    if label == 0:\n",
    "        sentiment = '중립'\n",
    "    elif label == 1:\n",
    "        sentiment = '긍정'\n",
    "    else:\n",
    "        sentiment = '부정'\n",
    "    \n",
    "    print(f\"'{sentiment}'감정 데이터\")\n",
    "    print(news_data[news_data['sentiment'] == label].tail(3))\n",
    "    print(\"\\n\")\n",
    "\n",
    "# 예측된 결과를 새로운 CSV 파일로 저장\n",
    "news_data.to_csv('../data/naver_news_crawling_data_with_sentiment.csv', index=False)"
   ],
   "id": "3564b11b61d98935",
   "outputs": [
    {
     "name": "stdout",
     "output_type": "stream",
     "text": [
      "'중립'감정 데이터\n",
      "                pub_date                                        description  \\\n",
      "8679 2024-11-27 18:00:00  이투데이박민웅 기자  연간 고정배당 25 상향 설비투자 원칙 등 밸류업 SK하이닉스...   \n",
      "8680 2024-11-27 18:00:00  SK하이닉스가 내년부터 2027년까지 적용할 새로운 주주환원 정책과 기업가치 제고밸...   \n",
      "8681 2024-11-27 18:00:00  SK하이닉스가 주당 연간 고정배당금을 기존 1200원에서 1500원으로 상향한다 순...   \n",
      "\n",
      "      sentiment  \n",
      "8679          0  \n",
      "8680          0  \n",
      "8681          0  \n",
      "\n",
      "\n",
      "'긍정'감정 데이터\n",
      "                pub_date                                        description  \\\n",
      "8638 2024-11-27 18:00:00  기존 1200원에서 1500원으로 상향 조정 SK하이닉스가 내년부터 3년간 적용할 ...   \n",
      "8639 2024-11-27 18:00:00  SK하이닉스는 27일 주당 고정배당금을 상향하는 밸류업기업가치 제고 계획을 공시했다...   \n",
      "8675 2024-11-27 18:00:00  SK하이닉스가 2027년까지 3년간 주당 연간 고정배당금을 기존 1200원에서 15...   \n",
      "\n",
      "      sentiment  \n",
      "8638          1  \n",
      "8639          1  \n",
      "8675          1  \n",
      "\n",
      "\n",
      "'부정'감정 데이터\n",
      "                pub_date                                        description  \\\n",
      "8619 2024-11-27 18:00:00  SK하이닉스솔리다임 포함는 2분기보다 15p 떨어진 206의 점유율로 2위를 차지했...   \n",
      "8629 2024-11-27 18:00:00  SK하이닉스솔리다임 포함는 2분기보다 15포인트 떨어진 206의 점유율로 2위를 차...   \n",
      "8650 2024-11-27 18:00:00  반도체 보조금 발언은 삼성전자343와 SK하이닉스497에 직격탄이 됐다 두 회사는 ...   \n",
      "\n",
      "      sentiment  \n",
      "8619          2  \n",
      "8629          2  \n",
      "8650          2  \n",
      "\n",
      "\n"
     ]
    }
   ],
   "execution_count": 7
  }
 ],
 "metadata": {
  "kernelspec": {
   "display_name": "Python 3",
   "language": "python",
   "name": "python3"
  },
  "language_info": {
   "codemirror_mode": {
    "name": "ipython",
    "version": 2
   },
   "file_extension": ".py",
   "mimetype": "text/x-python",
   "name": "python",
   "nbconvert_exporter": "python",
   "pygments_lexer": "ipython2",
   "version": "2.7.6"
  }
 },
 "nbformat": 4,
 "nbformat_minor": 5
}
