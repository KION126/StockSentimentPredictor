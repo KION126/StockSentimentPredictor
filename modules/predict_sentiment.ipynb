{
 "cells": [
  {
   "metadata": {},
   "cell_type": "markdown",
   "source": "## 뉴스 데이터 감정 레이블 예측",
   "id": "82442c98a838071e"
  },
  {
   "cell_type": "code",
   "id": "initial_id",
   "metadata": {
    "collapsed": true,
    "ExecuteTime": {
     "end_time": "2024-11-30T06:20:35.232275Z",
     "start_time": "2024-11-30T06:20:31.530420Z"
    }
   },
   "source": [
    "import pandas as pd\n",
    "import numpy as np\n",
    "from transformers import TFBertForSequenceClassification, BertTokenizer"
   ],
   "outputs": [],
   "execution_count": 1
  },
  {
   "metadata": {},
   "cell_type": "markdown",
   "source": [
    "---\n",
    "### 뉴스 감정 분석 모델 적용\n",
    "- `뉴스 감정 데이터 셋`과 `KLUE BERT`모델을 사용하여 학습시킨 `sentiment_analysis_model` 모델 적용"
   ],
   "id": "afbd01a718e845fd"
  },
  {
   "metadata": {
    "ExecuteTime": {
     "end_time": "2024-11-30T06:20:38.066707Z",
     "start_time": "2024-11-30T06:20:35.239223Z"
    }
   },
   "cell_type": "code",
   "source": [
    "# 뉴스 감정 분석 모델과 토크나이저 불러오기\n",
    "MODEL_PATH = \"../subject_focus_finetuned_model\"  # 모델이 저장된 경로\n",
    "MODEL_NAME = \"klue/bert-base\"  # 모델 이름\n",
    "\n",
    "tokenizer = BertTokenizer.from_pretrained(MODEL_PATH)\n",
    "model = TFBertForSequenceClassification.from_pretrained(MODEL_PATH)"
   ],
   "id": "22615d39c6046386",
   "outputs": [
    {
     "name": "stderr",
     "output_type": "stream",
     "text": [
      "All model checkpoint layers were used when initializing TFBertForSequenceClassification.\n",
      "\n",
      "All the layers of TFBertForSequenceClassification were initialized from the model checkpoint at ../subject_focus_finetuned_model.\n",
      "If your task is similar to the task the model of the checkpoint was trained on, you can already use TFBertForSequenceClassification for predictions without further training.\n"
     ]
    }
   ],
   "execution_count": 2
  },
  {
   "metadata": {},
   "cell_type": "markdown",
   "source": [
    "---\n",
    "### 네이버 뉴스 크롤링 데이터 전처리\n",
    "- 네이버 뉴스 API사용하여 `SK하이닉스` 키워드로 검색된 뉴스 데이터\n",
    "- 한 번에 요청할 수 있는 데이터가 1000개 이므로 `AWS 리눅스 서버`를 통한 `crontab 스케줄러`로 1시간 마다 API요청을 스케줄링하여 데이터 수집\n",
    "- 데이터 건수: 8681건\n",
    "- 데이터 기간: 2024_11_04_09:00 ~ 2024_11_27_18:00\n",
    "- 컬럼: `pub_date(%Y_%m_%d_%H:%S)`, `title`, `description`\n",
    "- 뉴스 감정 특성상 뉴스 내용이 중복되거나 비슷한 뉴스가 존재하나,\n",
    "이 또한 해당 뉴스 내용에 대한 이슈도라고 생각하여 중복 제거를 하지 않음."
   ],
   "id": "cdb5e92fb63e60be"
  },
  {
   "metadata": {
    "ExecuteTime": {
     "end_time": "2024-11-30T06:20:38.221431Z",
     "start_time": "2024-11-30T06:20:38.146464Z"
    }
   },
   "cell_type": "code",
   "source": [
    "# 네이버 뉴스 크롤링 데이터 불러오기\n",
    "news_data = pd.read_csv('../data/naver_news_crawling_data.csv', header=None, names=['pub_date', 'title', 'description'])"
   ],
   "id": "b938c7ecaf2f42b",
   "outputs": [],
   "execution_count": 3
  },
  {
   "metadata": {},
   "cell_type": "markdown",
   "source": [
    "- 결측값 제거: 수집과정에서 `description`컬럼의 값이 누락 된 2개의 데이터 제거\n",
    "- `title`컬럼 제거\n",
    "- `pub_data`, `description` 컬럼의 형식을 변환\n",
    "- 데이터를 BERT 모델에 적합한 형태로 변환"
   ],
   "id": "678cb32691e295bf"
  },
  {
   "metadata": {
    "ExecuteTime": {
     "end_time": "2024-11-30T06:20:43.912159Z",
     "start_time": "2024-11-30T06:20:38.239331Z"
    }
   },
   "cell_type": "code",
   "source": [
    "# 데이터 셋 요약 확인\n",
    "print('데이터 요약')\n",
    "news_data.info()\n",
    "\n",
    "# 결측값 확인\n",
    "print('\\n결측값 여부 :',news_data.isnull().values.any(), '\\n')\n",
    "\n",
    "# 'description' 컬럼에서 결측치 제거\n",
    "news_data = news_data.dropna(subset=['description'])\n",
    "\n",
    "# 'title' 컬럼(뉴스 제목) 제거\n",
    "news_data = news_data.drop(columns=['title'])\n",
    "\n",
    "# 'pub_date' 컬럼을 datetime 형식으로 변환\n",
    "news_data['pub_date'] = pd.to_datetime(news_data['pub_date'], format='%Y_%m_%d_%H:%S', errors='coerce')\n",
    "\n",
    "# 'description' 컬럼을 문자열 형식으로 변환\n",
    "news_data['description'] = news_data['description'].astype(str)\n",
    "\n",
    "# \"SK하이닉스\", \"sk하이닉스\" 텍스트 변환\n",
    "news_data = news_data.applymap(lambda x: x.replace(\"SK하이닉스\", \"<SK하이닉스>\") if isinstance(x, str) else x)\n",
    "news_data = news_data.applymap(lambda x: x.replace(\"sk하이닉스\", \"<SK하이닉스>\") if isinstance(x, str) else x)\n",
    "\n",
    "# 데이터 셋 요약 확인\n",
    "print('데이터 요약')\n",
    "news_data.info()\n",
    "\n",
    "print('\\n총 데이터 수 :',len(news_data))\n",
    "\n",
    "# 데이터 전처리 (BERT 모델 입력에 맞게 텍스트를 인코딩)\n",
    "def encode_data(data):\n",
    "    return tokenizer(\n",
    "        data['description'].tolist(),\n",
    "        padding=True,\n",
    "        truncation=True,\n",
    "        max_length=128,\n",
    "        return_tensors=\"tf\"\n",
    "    )\n",
    "\n",
    "# 데이터 전처리\n",
    "encodings = encode_data(news_data)"
   ],
   "id": "aa11500ffa083850",
   "outputs": [
    {
     "name": "stdout",
     "output_type": "stream",
     "text": [
      "데이터 요약\n",
      "<class 'pandas.core.frame.DataFrame'>\n",
      "RangeIndex: 9694 entries, 0 to 9693\n",
      "Data columns (total 3 columns):\n",
      " #   Column       Non-Null Count  Dtype \n",
      "---  ------       --------------  ----- \n",
      " 0   pub_date     9694 non-null   object\n",
      " 1   title        9694 non-null   object\n",
      " 2   description  9692 non-null   object\n",
      "dtypes: object(3)\n",
      "memory usage: 227.3+ KB\n",
      "\n",
      "결측값 여부 : True \n",
      "\n",
      "데이터 요약\n",
      "<class 'pandas.core.frame.DataFrame'>\n",
      "Index: 9692 entries, 0 to 9693\n",
      "Data columns (total 2 columns):\n",
      " #   Column       Non-Null Count  Dtype         \n",
      "---  ------       --------------  -----         \n",
      " 0   pub_date     9692 non-null   datetime64[ns]\n",
      " 1   description  9692 non-null   object        \n",
      "dtypes: datetime64[ns](1), object(1)\n",
      "memory usage: 227.2+ KB\n",
      "\n",
      "총 데이터 수 : 9692\n"
     ]
    }
   ],
   "execution_count": 4
  },
  {
   "metadata": {},
   "cell_type": "markdown",
   "source": [
    "---\n",
    "### 감정 레이블 예측\n",
    "- `description`컬럼을 대상으로 감정 레이블을 예측 (0:neutral ,1:positive ,2:negative)\n",
    "- 예측한 감정 레이블을 데이터프레임에 추가하고 새로운 데이터를 CSV파일로 저장"
   ],
   "id": "4e71169dc6a9162a"
  },
  {
   "metadata": {
    "ExecuteTime": {
     "end_time": "2024-11-30T06:21:43.456992Z",
     "start_time": "2024-11-30T06:20:43.930110Z"
    }
   },
   "cell_type": "code",
   "source": [
    "# 예측 실행\n",
    "predictions = model.predict(encodings['input_ids'])\n",
    "predicted_classes = np.argmax(predictions.logits, axis=1)"
   ],
   "id": "e756f570278e4904",
   "outputs": [
    {
     "name": "stdout",
     "output_type": "stream",
     "text": [
      "303/303 [==============================] - 59s 174ms/step\n"
     ]
    }
   ],
   "execution_count": 5
  },
  {
   "metadata": {
    "ExecuteTime": {
     "end_time": "2024-11-30T06:21:43.816606Z",
     "start_time": "2024-11-30T06:21:43.474916Z"
    }
   },
   "cell_type": "code",
   "source": [
    "\n",
    "import matplotlib.pyplot as plt\n",
    "\n",
    "# 예측된 감정 레이블을 데이터프레임에 추가\n",
    "news_data['sentiment'] = predicted_classes\n",
    "\n",
    "for label in range(3):\n",
    "    if label == 0:\n",
    "        sentiment = '중립'\n",
    "    elif label == 1:\n",
    "        sentiment = '긍정'\n",
    "    else:\n",
    "        sentiment = '부정' \n",
    "    \n",
    "    print(f\"'{sentiment}'감정 데이터\")\n",
    "    print(news_data[news_data['sentiment'] == label].tail(3))\n",
    "    print(\"\\n\")\n",
    "\n",
    "# 예측된 결과를 새로운 CSV 파일로 저장\n",
    "news_data.to_csv('../data/naver_news_crawling_data_with_sentiment.csv', index=False)\n",
    "\n",
    "# 라벨 분포 시각화\n",
    "plt.figure(figsize=(10, 6))\n",
    "label_counts = news_data['sentiment'].value_counts()\n",
    "label_counts = label_counts.loc[[0, 1, 2]].fillna(0).astype(int)\n",
    "bar_plot = label_counts.plot(kind='bar', color='skyblue', edgecolor='black')\n",
    "\n",
    "# 제목 및 축 레이블 설정\n",
    "plt.title('Emotional Label Distribution Chart')\n",
    "plt.xlabel('Emotional Label')\n",
    "plt.ylabel('Count')\n",
    "plt.xticks(ticks=[0, 1, 2], labels=['neutral', 'positive', 'negative'], rotation=0)\n",
    "# 비율 표기\n",
    "total = label_counts.sum()\n",
    "for i, value in enumerate(label_counts):\n",
    "    percentage = (value / total) * 100\n",
    "    plt.text(i, value + 10, f'{percentage:.2f}%', ha='center', va='bottom', fontsize=10)"
   ],
   "id": "3564b11b61d98935",
   "outputs": [
    {
     "name": "stdout",
     "output_type": "stream",
     "text": [
      "'중립'감정 데이터\n",
      "                pub_date                                        description  \\\n",
      "9689 2024-11-30 10:00:00  김경희 이천시장과 임해규 두원공대 총장이 말하는 반도체 산업의 속살 첨단과 전통 도...   \n",
      "9692 2024-11-30 12:00:00  트레이닝복세면도구속옷 등으로 구성된 구호키트와 대피소 칸막이는 <SK하이닉스>의 기...   \n",
      "9693 2024-11-30 13:00:00  이 종목은 <SK하이닉스>103 일본 반도체 장비주 어드반테스트96 대만 TSMC8...   \n",
      "\n",
      "      sentiment  \n",
      "9689          0  \n",
      "9692          0  \n",
      "9693          0  \n",
      "\n",
      "\n",
      "'긍정'감정 데이터\n",
      "                pub_date                                        description  \\\n",
      "9661 2024-11-30 00:00:00  이 산업의 대표적인 수혜자가 최고 성능의 5세대 HBM인 HBM3E 양산에 성공 엔...   \n",
      "9672 2024-11-30 07:00:00  반면 인공지능AI 시장이 개화하며 HBM 수요가 크게 늘었고 <SK하이닉스> 등 메...   \n",
      "9687 2024-11-30 10:00:00  국내 대표적 인공지능AI 붐 수혜기업으로 꼽히는 <SK하이닉스>와 관련 최태원 SK...   \n",
      "\n",
      "      sentiment  \n",
      "9661          1  \n",
      "9672          1  \n",
      "9687          1  \n",
      "\n",
      "\n",
      "'부정'감정 데이터\n",
      "                pub_date                                        description  \\\n",
      "9685 2024-11-30 06:00:00  미국 정부효율부 수장 임명자가 반도체과학법칩스법에 따른 반도체 보조금 지급 전반을 ...   \n",
      "9690 2024-11-30 10:00:00  추가 규제엔 AI인공지능칩에 필수요소인 HBM고대역폭메모리에 따른 조항도 일부 포함...   \n",
      "9691 2024-11-30 12:00:00  미국에 공장을 지으며 보조금을 받기로 한 삼성전자<SK하이닉스> 등 반도체 기업의 ...   \n",
      "\n",
      "      sentiment  \n",
      "9685          2  \n",
      "9690          2  \n",
      "9691          2  \n",
      "\n",
      "\n"
     ]
    },
    {
     "data": {
      "text/plain": [
       "<Figure size 1000x600 with 1 Axes>"
      ],
      "image/png": "[encoded data removed]"
     },
     "metadata": {},
     "output_type": "display_data"
    }
   ],
   "execution_count": 6
  }
 ],
 "metadata": {
  "kernelspec": {
   "display_name": "Python 3",
   "language": "python",
   "name": "python3"
  },
  "language_info": {
   "codemirror_mode": {
    "name": "ipython",
    "version": 2
   },
   "file_extension": ".py",
   "mimetype": "text/x-python",
   "name": "python",
   "nbconvert_exporter": "python",
   "pygments_lexer": "ipython2",
   "version": "2.7.6"
  }
 },
 "nbformat": 4,
 "nbformat_minor": 5
}
